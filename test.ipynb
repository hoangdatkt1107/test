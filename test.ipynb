{
 "cells": [
  {
   "cell_type": "code",
   "execution_count": 13,
   "metadata": {},
   "outputs": [],
   "source": [
    "import pyspark\n",
    "from pyspark.sql import SparkSession\n",
    "from pyspark.sql import dataframe \n",
    "from pyspark.sql.functions import *\n",
    "from datetime import  date \n",
    "from datetime import timedelta\n",
    "from pyspark.sql.types import *\n",
    "import os\n",
    "import logging\n",
    "from pyspark.errors import AnalysisException\n"
   ]
  },
  {
   "cell_type": "code",
   "execution_count": 2,
   "metadata": {},
   "outputs": [],
   "source": [
    "spark = SparkSession.builder.config(\"spark.driver.memory\", \"16g\").getOrCreate()"
   ]
  },
  {
   "cell_type": "code",
   "execution_count": 3,
   "metadata": {},
   "outputs": [],
   "source": [
    "forder_path = \"D:\\\\DATA\\\\DE\\\\dataset\\\\Class2_Fpt_dataset\""
   ]
  },
  {
   "cell_type": "code",
   "execution_count": 6,
   "metadata": {},
   "outputs": [
    {
     "data": {
      "text/plain": [
       "['logt21.txt',\n",
       " 'logt22.txt',\n",
       " 'logt23.txt',\n",
       " 'logt24.txt',\n",
       " 'logt25.txt',\n",
       " 'logt31.txt',\n",
       " 'logt32.txt',\n",
       " 'user_info.txt']"
      ]
     },
     "execution_count": 6,
     "metadata": {},
     "output_type": "execute_result"
    }
   ],
   "source": [
    "os.listdir(forder_path)"
   ]
  },
  {
   "cell_type": "code",
   "execution_count": 21,
   "metadata": {},
   "outputs": [],
   "source": [
    "def parse_data(path):\n",
    "    data = spark.read.text(path)\n",
    "    for field in field_list:\n",
    "        data = data.withColumn(field, udf_list[field](data[\"value\"]))\n",
    "    data = data.drop(\"value\")\n",
    "    data = data.withColumn(\"SessionMainMenu\", regexp_replace(col(\"SessionMainMenu\"), concat(col(\"Mac\"), lit(\":\")), \"\"))\n",
    "    return data"
   ]
  },
  {
   "cell_type": "code",
   "execution_count": 24,
   "metadata": {},
   "outputs": [],
   "source": [
    "data = spark.read.text(\"D:\\\\DATA\\\\DE\\\\dataset\\\\Class2_Fpt_dataset\\\\logt21.txt\")"
   ]
  },
  {
   "cell_type": "code",
   "execution_count": 26,
   "metadata": {},
   "outputs": [
    {
     "name": "stdout",
     "output_type": "stream",
     "text": [
      "+--------------------+\n",
      "|               value|\n",
      "+--------------------+\n",
      "|{u'ItemId': u'100...|\n",
      "|{u'Firmware': u'2...|\n",
      "|{u'ItemId': u'100...|\n",
      "|{u'Firmware': u'2...|\n",
      "|{u'ItemId': u'100...|\n",
      "+--------------------+\n",
      "only showing top 5 rows\n",
      "\n"
     ]
    }
   ],
   "source": [
    "data.show(5)"
   ]
  },
  {
   "cell_type": "code",
   "execution_count": 7,
   "metadata": {},
   "outputs": [],
   "source": [
    "def filter_log_file(forder_path):\n",
    "    list = os.listdir(forder_path)\n",
    "    list_file = [i for i in list if i.startswith('log') and i.endswith('txt')]\n",
    "    path = [forder_path + '\\\\' + i for i in list_file]\n",
    "    return path\n"
   ]
  },
  {
   "cell_type": "code",
   "execution_count": 22,
   "metadata": {},
   "outputs": [],
   "source": [
    "def read_data():\n",
    "    logging.basicConfig(level=logging.ERROR, format='%(asctime)s - %(levelname)s - %(message)s')\n",
    "\n",
    "    path = filter_log_file(forder_path)\n",
    "    df = None\n",
    "    for i in path:\n",
    "        try:\n",
    "            df1 = parse_data(i)\n",
    "            df1 = df1.withColumn('path',lit(i))\n",
    "            # df1 = df1.withColumn('date',lit(i.split('\\\\')[-1].split('_')[1]))\n",
    "            if df is None:\n",
    "                df = df1 \n",
    "            else:\n",
    "                df = df.union(df1)\n",
    "        except AnalysisException as error:\n",
    "            logging.error(f\"Error processing date {i}: {error}\")\n",
    "    return df\n",
    " "
   ]
  },
  {
   "cell_type": "code",
   "execution_count": 23,
   "metadata": {},
   "outputs": [
    {
     "ename": "NameError",
     "evalue": "name 'field_list' is not defined",
     "output_type": "error",
     "traceback": [
      "\u001b[1;31m---------------------------------------------------------------------------\u001b[0m",
      "\u001b[1;31mNameError\u001b[0m                                 Traceback (most recent call last)",
      "Cell \u001b[1;32mIn[23], line 1\u001b[0m\n\u001b[1;32m----> 1\u001b[0m df \u001b[38;5;241m=\u001b[39m \u001b[43mread_data\u001b[49m\u001b[43m(\u001b[49m\u001b[43m)\u001b[49m\n",
      "Cell \u001b[1;32mIn[22], line 8\u001b[0m, in \u001b[0;36mread_data\u001b[1;34m()\u001b[0m\n\u001b[0;32m      6\u001b[0m \u001b[38;5;28;01mfor\u001b[39;00m i \u001b[38;5;129;01min\u001b[39;00m path:\n\u001b[0;32m      7\u001b[0m     \u001b[38;5;28;01mtry\u001b[39;00m:\n\u001b[1;32m----> 8\u001b[0m         df1 \u001b[38;5;241m=\u001b[39m \u001b[43mparse_data\u001b[49m\u001b[43m(\u001b[49m\u001b[43mi\u001b[49m\u001b[43m)\u001b[49m\n\u001b[0;32m      9\u001b[0m         df1 \u001b[38;5;241m=\u001b[39m df1\u001b[38;5;241m.\u001b[39mwithColumn(\u001b[38;5;124m'\u001b[39m\u001b[38;5;124mpath\u001b[39m\u001b[38;5;124m'\u001b[39m,lit(i))\n\u001b[0;32m     10\u001b[0m         \u001b[38;5;66;03m# df1 = df1.withColumn('date',lit(i.split('\\\\')[-1].split('_')[1]))\u001b[39;00m\n",
      "Cell \u001b[1;32mIn[21], line 3\u001b[0m, in \u001b[0;36mparse_data\u001b[1;34m(path)\u001b[0m\n\u001b[0;32m      1\u001b[0m \u001b[38;5;28;01mdef\u001b[39;00m \u001b[38;5;21mparse_data\u001b[39m(path):\n\u001b[0;32m      2\u001b[0m     data \u001b[38;5;241m=\u001b[39m spark\u001b[38;5;241m.\u001b[39mread\u001b[38;5;241m.\u001b[39mtext(path)\n\u001b[1;32m----> 3\u001b[0m     \u001b[38;5;28;01mfor\u001b[39;00m field \u001b[38;5;129;01min\u001b[39;00m \u001b[43mfield_list\u001b[49m:\n\u001b[0;32m      4\u001b[0m         data \u001b[38;5;241m=\u001b[39m data\u001b[38;5;241m.\u001b[39mwithColumn(field, udf_list[field](data[\u001b[38;5;124m\"\u001b[39m\u001b[38;5;124mvalue\u001b[39m\u001b[38;5;124m\"\u001b[39m]))\n\u001b[0;32m      5\u001b[0m     data \u001b[38;5;241m=\u001b[39m data\u001b[38;5;241m.\u001b[39mdrop(\u001b[38;5;124m\"\u001b[39m\u001b[38;5;124mvalue\u001b[39m\u001b[38;5;124m\"\u001b[39m)\n",
      "\u001b[1;31mNameError\u001b[0m: name 'field_list' is not defined"
     ]
    }
   ],
   "source": [
    "df = read_data()"
   ]
  },
  {
   "cell_type": "code",
   "execution_count": 20,
   "metadata": {},
   "outputs": [
    {
     "name": "stdout",
     "output_type": "stream",
     "text": [
      "+--------------------+--------------------+\n",
      "|               value|                path|\n",
      "+--------------------+--------------------+\n",
      "|{u'ItemId': u'100...|D:\\DATA\\DE\\datase...|\n",
      "|{u'Firmware': u'2...|D:\\DATA\\DE\\datase...|\n",
      "|{u'ItemId': u'100...|D:\\DATA\\DE\\datase...|\n",
      "|{u'Firmware': u'2...|D:\\DATA\\DE\\datase...|\n",
      "|{u'ItemId': u'100...|D:\\DATA\\DE\\datase...|\n",
      "|{u'Firmware': u'2...|D:\\DATA\\DE\\datase...|\n",
      "|{u'ItemId': u'100...|D:\\DATA\\DE\\datase...|\n",
      "|{u'ItemId': u'100...|D:\\DATA\\DE\\datase...|\n",
      "|{u'Firmware': u'2...|D:\\DATA\\DE\\datase...|\n",
      "|{u'ItemId': u'100...|D:\\DATA\\DE\\datase...|\n",
      "|{u'Firmware': u'2...|D:\\DATA\\DE\\datase...|\n",
      "|{u'Firmware': u'2...|D:\\DATA\\DE\\datase...|\n",
      "|{u'ItemId': u'100...|D:\\DATA\\DE\\datase...|\n",
      "|{u'ItemId': u'100...|D:\\DATA\\DE\\datase...|\n",
      "|{u'ItemId': u'158...|D:\\DATA\\DE\\datase...|\n",
      "|{u'ItemId': u'52'...|D:\\DATA\\DE\\datase...|\n",
      "|{u'Firmware': u'2...|D:\\DATA\\DE\\datase...|\n",
      "|{u'ItemId': u'125...|D:\\DATA\\DE\\datase...|\n",
      "|{u'ItemId': u'100...|D:\\DATA\\DE\\datase...|\n",
      "|{u'Firmware': u'2...|D:\\DATA\\DE\\datase...|\n",
      "+--------------------+--------------------+\n",
      "only showing top 20 rows\n",
      "\n"
     ]
    }
   ],
   "source": [
    "df.show()"
   ]
  }
 ],
 "metadata": {
  "kernelspec": {
   "display_name": "Dat_environment",
   "language": "python",
   "name": "python3"
  },
  "language_info": {
   "codemirror_mode": {
    "name": "ipython",
    "version": 3
   },
   "file_extension": ".py",
   "mimetype": "text/x-python",
   "name": "python",
   "nbconvert_exporter": "python",
   "pygments_lexer": "ipython3",
   "version": "3.11.9"
  }
 },
 "nbformat": 4,
 "nbformat_minor": 2
}
