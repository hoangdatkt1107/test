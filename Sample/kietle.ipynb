{
 "cells": [
  {
   "cell_type": "code",
   "execution_count": 1,
   "metadata": {},
   "outputs": [],
   "source": [
    "from pyspark import SparkContext, SparkConf\n",
    "from pyspark.sql import SparkSession\n",
    "from pyspark.sql.types import *\n",
    "from pyspark.sql.functions import *\n",
    "\n",
    "sc = SparkContext()\n",
    "spark = SparkSession.builder.appName(\"LogAnalysis\").getOrCreate()"
   ]
  },
  {
   "cell_type": "code",
   "execution_count": 3,
   "metadata": {},
   "outputs": [
    {
     "name": "stdout",
     "output_type": "stream",
     "text": [
      "['logt21.txt', 'logt22.txt', 'logt23.txt', 'logt24.txt', 'logt25.txt', 'logt31.txt', 'logt32.txt']\n"
     ]
    }
   ],
   "source": [
    "import os\n",
    "folder_path = \"./DataSampleTest\"  # Replace with the actual folder path\n",
    "log_files = [f for f in os.listdir(folder_path) if f.startswith(\"log\")]\n",
    "print(log_files)"
   ]
  },
  {
   "cell_type": "markdown",
   "metadata": {},
   "source": [
    "# 1. Prepare data "
   ]
  },
  {
   "cell_type": "markdown",
   "metadata": {},
   "source": [
    "## 1.1. Read data"
   ]
  },
  {
   "cell_type": "markdown",
   "metadata": {},
   "source": [
    "Bước này đọc & chuẩn bị data cho phân tích"
   ]
  },
  {
   "cell_type": "code",
   "execution_count": 8,
   "metadata": {},
   "outputs": [
    {
     "data": {
      "text/plain": [
       "{'ItemId': '100052388',\n",
       " 'RealTimePlaying': '570.3',\n",
       " 'SessionMainMenu': 'B046FCAC0DC1:2016:02:17:03:00:34:105'}"
      ]
     },
     "execution_count": 8,
     "metadata": {},
     "output_type": "execute_result"
    }
   ],
   "source": [
    "# demo dùng hàm eval để parse json string thành map\n",
    "s = \"{u'ItemId': u'100052388', u'RealTimePlaying': u'570.3', u'SessionMainMenu': u'B046FCAC0DC1:2016:02:17:03:00:34:105'}\"\n",
    "eval(s)"
   ]
  },
  {
   "cell_type": "code",
   "execution_count": 2,
   "metadata": {},
   "outputs": [
    {
     "data": {
      "text/plain": [
       "PythonRDD[2] at RDD at PythonRDD.scala:53"
      ]
     },
     "execution_count": 2,
     "metadata": {},
     "output_type": "execute_result"
    }
   ],
   "source": [
    "# read all text files into \n",
    "rdd = sc.textFile(\"./DataSampleTest/logt*.txt\").map(lambda x: eval(x)) # x = x[0] (in case rdd 1-column): value of rdd \n",
    "rdd"
   ]
  },
  {
   "cell_type": "code",
   "execution_count": 81,
   "metadata": {},
   "outputs": [
    {
     "name": "stdout",
     "output_type": "stream",
     "text": [
      "+-----+-------+--------------------+---------+---------+----------+-------------+-----------+--------+------------------+------------+--------+------+------------+---------+--------------------+------------+---------+-----+------------+-----------+--------------+---------------+------------------+------------+--------------------+--------------------+--------------------+---------+-------------+--------------------+-------------+\n",
      "|AppId|AppName|             BoxTime|ChapterID| Contract|CustomerID|DefaultGetway|  Directors|Duration|ElapsedTimePlaying|       Event|Firmware|Folder|          Ip|   ItemId|            ItemName|ListOnFolder|LocalType|LogId|         Mac| PrimaryDNS|PublishCountry|RealTimePlaying|            Screen|SecondaryDNS|             Session|     SessionMainMenu|      SessionSubMenu|SubMenuId|   SubnetMask|                 Url|       ip_wan|\n",
      "+-----+-------+--------------------+---------+---------+----------+-------------+-----------+--------+------------------+------------+--------+------+------------+---------+--------------------+------------+---------+-----+------------+-----------+--------------+---------------+------------------+------------+--------------------+--------------------+--------------------+---------+-------------+--------------------+-------------+\n",
      "|  VOD|    VOD|2016:02:12:12:46:...|   221307|SGFD81389|    220688|  192.168.1.1|Lee So Yeon|    3814|              3811|     StopVOD|  2.4.14|    20|192.168.1.25|100052388|Trường Học Moorim...|    19,19,20|        0|   52|B046FCAC0DC1|192.168.1.1|      Hàn Quốc|          570.3|PlayingFromGeneral|     0.0.0.0|B046FCAC0DC1:2016...|B046FCAC0DC1:2016...|B046FCAC0DC1:2016...|       11|255.255.255.0|http://fboxstream...|100.98.91.249|\n",
      "| IPTV|   IPTV|2016:02:11:01:02:...|     NULL|SGFD81389|    220688|  192.168.1.1|       NULL|    NULL|              NULL|   EnterIPTV|  2.4.14|  NULL|192.168.1.25|     NULL|                NULL|        NULL|       77|   40|B046FCAC0DC1|192.168.1.1|          NULL|           NULL|              NULL|     0.0.0.0|B046FCAC0DC1:2016...|B046FCAC0DC1:2016...|                NULL|     NULL|255.255.255.0|                NULL|100.98.91.249|\n",
      "|  VOD|    VOD|2016:02:11:03:06:...|   221307|SGFD81389|    220688|  192.168.1.1|Lee So Yeon|       0|              NULL|     NextVOD|  2.4.14|    20|192.168.1.25|100052388|Trường Học Moorim...|    19,19,20|       77|   55|B046FCAC0DC1|192.168.1.1|      Hàn Quốc|           NULL|PlayingFromGeneral|     0.0.0.0|B046FCAC0DC1:2016...|B046FCAC0DC1:2016...|B046FCAC0DC1:2016...|       11|255.255.255.0|                NULL|100.98.91.249|\n",
      "|  VOD|   IPTV|2016:02:12:04:45:...|     NULL|SGFD81389|    220688|  192.168.1.1|       NULL|    NULL|              NULL|ChangeModule|  2.4.14|  NULL|192.168.1.25|     NULL|                NULL|        NULL|       77|   18|B046FCAC0DC1|192.168.1.1|          NULL|           NULL|              NULL|     0.0.0.0|B046FCAC0DC1:2016...|B046FCAC0DC1:2016...|                NULL|     NULL|255.255.255.0|                NULL|100.98.91.249|\n",
      "|  VOD|    VOD|2016:02:12:12:47:...|   221308|SGFD81389|    220688|  192.168.1.1|Lee So Yeon|    3906|              NULL|     PlayVOD|  2.4.14|    20|192.168.1.25|100052388|Trường Học Moorim...|    19,19,20|        0|   54|B046FCAC0DC1|192.168.1.1|      Hàn Quốc|           NULL|PlayingFromGeneral|     0.0.0.0|B046FCAC0DC1:2016...|B046FCAC0DC1:2016...|B046FCAC0DC1:2016...|       11|255.255.255.0|http://fboxstream...|100.98.91.249|\n",
      "| IPTV|   IPTV|2016:02:12:04:45:...|     NULL|SGFD81389|    220688|  192.168.1.1|       NULL|    NULL|              NULL|   EnterIPTV|  2.4.14|  NULL|192.168.1.25|     NULL|                NULL|        NULL|       77|   40|B046FCAC0DC1|192.168.1.1|          NULL|           NULL|              NULL|     0.0.0.0|B046FCAC0DC1:2016...|B046FCAC0DC1:2016...|                NULL|     NULL|255.255.255.0|                NULL|100.98.91.249|\n",
      "|  VOD|    VOD|2016:02:13:03:48:...|   221309|SGFD81389|    220688|  192.168.1.1|Lee So Yeon|       0|              NULL|     NextVOD|  2.4.14|    20|192.168.1.25|100052388|Trường Học Moorim...|    19,19,20|        0|   55|B046FCAC0DC1|192.168.1.1|      Hàn Quốc|           NULL|PlayingFromGeneral|     0.0.0.0|B046FCAC0DC1:2016...|B046FCAC0DC1:2016...|B046FCAC0DC1:2016...|       11|255.255.255.0|                NULL|100.98.91.249|\n",
      "|  VOD|    VOD|2016:02:13:03:48:...|   221308|SGFD81389|    220688|  192.168.1.1|Lee So Yeon|    3906|              3903|     StopVOD|  2.4.14|    20|192.168.1.25|100052388|Trường Học Moorim...|    19,19,20|        0|   52|B046FCAC0DC1|192.168.1.1|      Hàn Quốc|         3384.6|PlayingFromGeneral|     0.0.0.0|B046FCAC0DC1:2016...|B046FCAC0DC1:2016...|B046FCAC0DC1:2016...|       11|255.255.255.0|http://fboxstream...|100.98.91.249|\n",
      "| IPTV|   IPTV|2016:02:13:17:25:...|     NULL|SGFD81389|    220688|  192.168.1.1|       NULL|    NULL|              NULL|   EnterIPTV|  2.4.14|  NULL|192.168.1.25|     NULL|                NULL|        NULL|        0|   40|B046FCAC0DC1|192.168.1.1|          NULL|           NULL|              NULL|     0.0.0.0|B046FCAC0DC1:2016...|B046FCAC0DC1:2016...|                NULL|     NULL|255.255.255.0|                NULL|100.91.19.253|\n",
      "|  VOD|    VOD|2016:02:14:01:53:...|   221308|SGFD81389|    220688|  192.168.1.1|Lee So Yeon|    3906|              3903|     StopVOD|  2.4.14|    20|192.168.1.25|100052388|Trường Học Moorim...|    19,19,20|       77|   52|B046FCAC0DC1|192.168.1.1|      Hàn Quốc|          621.9|PlayingFromGeneral|     0.0.0.0|B046FCAC0DC1:2016...|B046FCAC0DC1:2016...|B046FCAC0DC1:2016...|       23|255.255.255.0|http://fboxstream...|100.91.19.253|\n",
      "| HOME|    VOD|2016:02:14:14:46:...|     NULL|SGFD81389|    220688|  192.168.1.1|       NULL|    NULL|              NULL|ChangeModule|  2.4.14|  NULL|192.168.1.25|     NULL|                NULL|        NULL|        0|   18|B046FCAC0DC1|192.168.1.1|          NULL|           NULL|              NULL|     0.0.0.0|B046FCAC0DC1:2016...|B046FCAC0DC1:2016...|                NULL|     NULL|255.255.255.0|                NULL|100.91.19.253|\n",
      "|  VOD|    VOD|2016:02:14:04:15:...|     NULL|SGFD81389|    220688|  192.168.1.1|       NULL|    NULL|              NULL|     Standby|  2.4.14|  NULL|192.168.1.25|     NULL|                NULL|        NULL|       77|   12|B046FCAC0DC1|192.168.1.1|          NULL|           NULL|              NULL|     0.0.0.0|B046FCAC0DC1:2016...|B046FCAC0DC1:2016...|                NULL|     NULL|255.255.255.0|                NULL|100.91.19.253|\n",
      "|  VOD|    VOD|2016:02:14:01:41:...|   221308|SGFD81389|    220688|  192.168.1.1|Lee So Yeon|       0|              NULL|    StartVOD|  2.4.14|    20|192.168.1.25|100052388|Trường Học Moorim...|    19,19,20|       77|   51|B046FCAC0DC1|192.168.1.1|      Hàn Quốc|           NULL|PlayingFromGeneral|     0.0.0.0|B046FCAC0DC1:2016...|B046FCAC0DC1:2016...|B046FCAC0DC1:2016...|       23|255.255.255.0|                NULL|100.91.19.253|\n",
      "|  VOD|    VOD|2016:02:14:03:04:...|   227909|SGFD81389|    220688|  192.168.1.1|Ô Nhĩ Thiện|       0|              NULL|    StartVOD|  2.4.14|     2|192.168.1.25|100000148|Kẻ Trộm Mộ: Huyền...|           2|       77|   51|B046FCAC0DC1|192.168.1.1|    Trung Quốc|           NULL|PlayingFromGeneral|     0.0.0.0|B046FCAC0DC1:2016...|B046FCAC0DC1:2016...|B046FCAC0DC1:2016...|        2|255.255.255.0|                NULL|100.91.19.253|\n",
      "| IPTV|   IPTV|2016:02:14:13:48:...|     NULL|SGFD81389|    220688|  192.168.1.1|       NULL|       7|              NULL| StopChannel|  2.4.14|  NULL|192.168.1.25|      158|       FOX SPORTS HD|        NULL|        0|   42|B046FCAC0DC1|192.168.1.1|          NULL|          6.657|              Main|     0.0.0.0|B046FCAC0DC1:2016...|B046FCAC0DC1:2016...|                NULL|     NULL|255.255.255.0|http://118.69.252...|100.91.19.253|\n",
      "| IPTV|   IPTV|2016:02:17:18:29:...|     NULL|SGFD81389|    220688|  192.168.1.1|       NULL|      11|              NULL| StopChannel|  2.4.14|  NULL|192.168.1.25|       52|     TRUYỀN HÌNH FPT|        NULL|        0|   42|B046FCAC0DC1|192.168.1.1|          NULL|         11.327|              Main|     0.0.0.0|B046FCAC0DC1:2016...|B046FCAC0DC1:2016...|                NULL|     NULL|255.255.255.0|                NULL|100.91.19.253|\n",
      "|  VOD|   IPTV|2016:02:17:00:23:...|     NULL|SGFD81389|    220688|  192.168.1.1|       NULL|    NULL|              NULL|ChangeModule|  2.4.14|  NULL|192.168.1.25|     NULL|                NULL|        NULL|        0|   18|B046FCAC0DC1|192.168.1.1|          NULL|           NULL|              NULL|     0.0.0.0|B046FCAC0DC1:2016...|B046FCAC0DC1:2016...|                NULL|     NULL|255.255.255.0|                NULL|100.91.19.253|\n",
      "| IPTV|   IPTV|2016:02:17:03:00:...|     NULL|SGFD81389|    220688|  192.168.1.1|       NULL|    NULL|              NULL|StartChannel|  2.4.14|  NULL|192.168.1.25|      125|       BÓNG ĐÁ TV HD|        NULL|        0|   41|B046FCAC0DC1|192.168.1.1|          NULL|           NULL|             Sport|     0.0.0.0|B046FCAC0DC1:2016...|B046FCAC0DC1:2016...|                NULL|     NULL|255.255.255.0|udp://225.1.2.243...|100.91.19.253|\n",
      "|  VOD|    VOD|2016:02:17:04:19:...|   221310|SGFD81389|    220688|  192.168.1.1|Lee So Yeon|    3916|              3913|     StopVOD|  2.4.14|    20|192.168.1.25|100052388|Trường Học Moorim...|    19,19,20|        0|   52|B046FCAC0DC1|192.168.1.1|      Hàn Quốc|         1158.6|PlayingFromGeneral|     0.0.0.0|B046FCAC0DC1:2016...|B046FCAC0DC1:2016...|B046FCAC0DC1:2016...|       23|255.255.255.0|http://fboxstream...|100.91.19.253|\n",
      "| IPTV|   IPTV|2016:02:17:00:22:...|     NULL|SGFD81389|    220688|  192.168.1.1|       NULL|    NULL|              NULL|   EnterIPTV|  2.4.14|  NULL|192.168.1.25|     NULL|                NULL|        NULL|        0|   40|B046FCAC0DC1|192.168.1.1|          NULL|           NULL|              NULL|     0.0.0.0|B046FCAC0DC1:2016...|B046FCAC0DC1:2016...|                NULL|     NULL|255.255.255.0|                NULL|100.91.19.253|\n",
      "+-----+-------+--------------------+---------+---------+----------+-------------+-----------+--------+------------------+------------+--------+------+------------+---------+--------------------+------------+---------+-----+------------+-----------+--------------+---------------+------------------+------------+--------------------+--------------------+--------------------+---------+-------------+--------------------+-------------+\n",
      "only showing top 20 rows\n",
      "\n"
     ]
    }
   ],
   "source": [
    "df_input = rdd.toDF()\n",
    "df_input.show()"
   ]
  },
  {
   "cell_type": "code",
   "execution_count": 82,
   "metadata": {},
   "outputs": [
    {
     "data": {
      "text/plain": [
       "914060"
      ]
     },
     "execution_count": 82,
     "metadata": {},
     "output_type": "execute_result"
    }
   ],
   "source": [
    "df_input.count() # -> đỡ phải lặp qua từng files như cách 1 "
   ]
  },
  {
   "cell_type": "markdown",
   "metadata": {},
   "source": [
    "## 1.2. Preprocess"
   ]
  },
  {
   "cell_type": "code",
   "execution_count": 83,
   "metadata": {},
   "outputs": [],
   "source": [
    "# lấy các cột đề cần\n",
    "df_input = df_input.selectExpr(\"Mac as MAC\", \"SessionMainMenu\", \"AppName\", \"LogId as LogID\", \"Event\", \"ItemId as ItemID\", \"RealTimePlaying\")"
   ]
  },
  {
   "cell_type": "code",
   "execution_count": 39,
   "metadata": {},
   "outputs": [
    {
     "name": "stdout",
     "output_type": "stream",
     "text": [
      "+------------+------------------------------------+-------+-----+------------+---------+---------------+\n",
      "|MAC         |SessionMainMenu                     |AppName|LogID|Event       |ItemID   |RealTimePlaying|\n",
      "+------------+------------------------------------+-------+-----+------------+---------+---------------+\n",
      "|B046FCAC0DC1|B046FCAC0DC1:2016:02:12:12:35:13:437|VOD    |52   |StopVOD     |100052388|570.3          |\n",
      "|B046FCAC0DC1|B046FCAC0DC1:2016:02:11:01:01:56:838|IPTV   |40   |EnterIPTV   |null     |0.0            |\n",
      "|B046FCAC0DC1|B046FCAC0DC1:2016:02:11:01:02:29:258|VOD    |55   |NextVOD     |100052388|0.0            |\n",
      "|B046FCAC0DC1|B046FCAC0DC1:2016:02:12:04:44:59:143|IPTV   |18   |ChangeModule|null     |0.0            |\n",
      "|B046FCAC0DC1|B046FCAC0DC1:2016:02:12:12:35:13:437|VOD    |54   |PlayVOD     |100052388|0.0            |\n",
      "|B046FCAC0DC1|B046FCAC0DC1:2016:02:12:04:44:59:143|IPTV   |40   |EnterIPTV   |null     |0.0            |\n",
      "|B046FCAC0DC1|B046FCAC0DC1:2016:02:12:12:35:13:437|VOD    |55   |NextVOD     |100052388|0.0            |\n",
      "|B046FCAC0DC1|B046FCAC0DC1:2016:02:12:12:35:13:437|VOD    |52   |StopVOD     |100052388|3384.6         |\n",
      "|B046FCAC0DC1|B046FCAC0DC1:2016:02:13:17:25:40:373|IPTV   |40   |EnterIPTV   |null     |0.0            |\n",
      "|B046FCAC0DC1|B046FCAC0DC1:2016:02:14:01:41:40:431|VOD    |52   |StopVOD     |100052388|621.9          |\n",
      "|B046FCAC0DC1|B046FCAC0DC1:2016:02:14:13:48:15:14 |VOD    |18   |ChangeModule|null     |0.0            |\n",
      "|B046FCAC0DC1|B046FCAC0DC1:2016:02:14:01:41:40:431|VOD    |12   |Standby     |null     |0.0            |\n",
      "|B046FCAC0DC1|B046FCAC0DC1:2016:02:14:01:41:40:431|VOD    |51   |StartVOD    |100052388|0.0            |\n",
      "|B046FCAC0DC1|B046FCAC0DC1:2016:02:14:01:41:40:431|VOD    |51   |StartVOD    |100000148|0.0            |\n",
      "|B046FCAC0DC1|B046FCAC0DC1:2016:02:14:13:48:02:456|IPTV   |42   |StopChannel |158      |6.657          |\n",
      "|B046FCAC0DC1|B046FCAC0DC1:2016:02:17:18:29:12:705|IPTV   |42   |StopChannel |52       |11.327         |\n",
      "|B046FCAC0DC1|B046FCAC0DC1:2016:02:17:00:22:38:341|IPTV   |18   |ChangeModule|null     |0.0            |\n",
      "|B046FCAC0DC1|B046FCAC0DC1:2016:02:17:03:00:34:105|IPTV   |41   |StartChannel|125      |0.0            |\n",
      "|B046FCAC0DC1|B046FCAC0DC1:2016:02:17:03:00:51:849|VOD    |52   |StopVOD     |100052388|1158.6         |\n",
      "|B046FCAC0DC1|B046FCAC0DC1:2016:02:17:00:22:38:341|IPTV   |40   |EnterIPTV   |null     |0.0            |\n",
      "+------------+------------------------------------+-------+-----+------------+---------+---------------+\n",
      "only showing top 20 rows\n",
      "\n"
     ]
    }
   ],
   "source": [
    "df_input.show(truncate=False)"
   ]
  },
  {
   "cell_type": "markdown",
   "metadata": {},
   "source": [
    "---"
   ]
  },
  {
   "cell_type": "markdown",
   "metadata": {},
   "source": [
    "- Handle data types"
   ]
  },
  {
   "cell_type": "code",
   "execution_count": 21,
   "metadata": {},
   "outputs": [
    {
     "data": {
      "text/plain": [
       "StructType([StructField('MAC', StringType(), True), StructField('SessionMainMenu', StringType(), True), StructField('AppName', StringType(), True), StructField('LogID', StringType(), True), StructField('Event', StringType(), True), StructField('ItemID', StringType(), True), StructField('RealTimePlaying', StringType(), True)])"
      ]
     },
     "execution_count": 21,
     "metadata": {},
     "output_type": "execute_result"
    }
   ],
   "source": [
    "df_input.schema # tất cả cột đang là string -> cần chuyển về đúng type của nó"
   ]
  },
  {
   "cell_type": "code",
   "execution_count": 84,
   "metadata": {},
   "outputs": [],
   "source": [
    "from pyspark.sql.types import *\n",
    "from pyspark.sql.functions import *\n",
    "\n",
    "df_input = df_input.withColumn(\"RealTimePlaying\", col(\"RealTimePlaying\").cast(FloatType()))"
   ]
  },
  {
   "cell_type": "markdown",
   "metadata": {},
   "source": [
    "- Theo đề, SessionMainMenu là \"thời điểm user bắt đầu sử dụng dịch vụ\" nhưng trông chưa đúng format thời gian -> cần format lại theo timestamp"
   ]
  },
  {
   "cell_type": "code",
   "execution_count": 13,
   "metadata": {},
   "outputs": [
    {
     "name": "stdout",
     "output_type": "stream",
     "text": [
      "+------------+------------------------------------+-------+-----+------------+---------+---------------+-----------------------+\n",
      "|MAC         |SessionMainMenu                     |AppName|LogID|Event       |ItemID   |RealTimePlaying|SessionStartTime       |\n",
      "+------------+------------------------------------+-------+-----+------------+---------+---------------+-----------------------+\n",
      "|B046FCAC0DC1|B046FCAC0DC1:2016:02:12:12:35:13:437|VOD    |52   |StopVOD     |100052388|570.3          |2016:02:12:12:35:13:437|\n",
      "|B046FCAC0DC1|B046FCAC0DC1:2016:02:11:01:01:56:838|IPTV   |40   |EnterIPTV   |NULL     |NULL           |2016:02:11:01:01:56:838|\n",
      "|B046FCAC0DC1|B046FCAC0DC1:2016:02:11:01:02:29:258|VOD    |55   |NextVOD     |100052388|NULL           |2016:02:11:01:02:29:258|\n",
      "|B046FCAC0DC1|B046FCAC0DC1:2016:02:12:04:44:59:143|IPTV   |18   |ChangeModule|NULL     |NULL           |2016:02:12:04:44:59:143|\n",
      "|B046FCAC0DC1|B046FCAC0DC1:2016:02:12:12:35:13:437|VOD    |54   |PlayVOD     |100052388|NULL           |2016:02:12:12:35:13:437|\n",
      "|B046FCAC0DC1|B046FCAC0DC1:2016:02:12:04:44:59:143|IPTV   |40   |EnterIPTV   |NULL     |NULL           |2016:02:12:04:44:59:143|\n",
      "|B046FCAC0DC1|B046FCAC0DC1:2016:02:12:12:35:13:437|VOD    |55   |NextVOD     |100052388|NULL           |2016:02:12:12:35:13:437|\n",
      "|B046FCAC0DC1|B046FCAC0DC1:2016:02:12:12:35:13:437|VOD    |52   |StopVOD     |100052388|3384.6         |2016:02:12:12:35:13:437|\n",
      "|B046FCAC0DC1|B046FCAC0DC1:2016:02:13:17:25:40:373|IPTV   |40   |EnterIPTV   |NULL     |NULL           |2016:02:13:17:25:40:373|\n",
      "|B046FCAC0DC1|B046FCAC0DC1:2016:02:14:01:41:40:431|VOD    |52   |StopVOD     |100052388|621.9          |2016:02:14:01:41:40:431|\n",
      "|B046FCAC0DC1|B046FCAC0DC1:2016:02:14:13:48:15:14 |VOD    |18   |ChangeModule|NULL     |NULL           |2016:02:14:13:48:15:14 |\n",
      "|B046FCAC0DC1|B046FCAC0DC1:2016:02:14:01:41:40:431|VOD    |12   |Standby     |NULL     |NULL           |2016:02:14:01:41:40:431|\n",
      "|B046FCAC0DC1|B046FCAC0DC1:2016:02:14:01:41:40:431|VOD    |51   |StartVOD    |100052388|NULL           |2016:02:14:01:41:40:431|\n",
      "|B046FCAC0DC1|B046FCAC0DC1:2016:02:14:01:41:40:431|VOD    |51   |StartVOD    |100000148|NULL           |2016:02:14:01:41:40:431|\n",
      "|B046FCAC0DC1|B046FCAC0DC1:2016:02:14:13:48:02:456|IPTV   |42   |StopChannel |158      |6.657          |2016:02:14:13:48:02:456|\n",
      "|B046FCAC0DC1|B046FCAC0DC1:2016:02:17:18:29:12:705|IPTV   |42   |StopChannel |52       |11.327         |2016:02:17:18:29:12:705|\n",
      "|B046FCAC0DC1|B046FCAC0DC1:2016:02:17:00:22:38:341|IPTV   |18   |ChangeModule|NULL     |NULL           |2016:02:17:00:22:38:341|\n",
      "|B046FCAC0DC1|B046FCAC0DC1:2016:02:17:03:00:34:105|IPTV   |41   |StartChannel|125      |NULL           |2016:02:17:03:00:34:105|\n",
      "|B046FCAC0DC1|B046FCAC0DC1:2016:02:17:03:00:51:849|VOD    |52   |StopVOD     |100052388|1158.6         |2016:02:17:03:00:51:849|\n",
      "|B046FCAC0DC1|B046FCAC0DC1:2016:02:17:00:22:38:341|IPTV   |40   |EnterIPTV   |NULL     |NULL           |2016:02:17:00:22:38:341|\n",
      "+------------+------------------------------------+-------+-----+------------+---------+---------------+-----------------------+\n",
      "only showing top 20 rows\n",
      "\n"
     ]
    }
   ],
   "source": [
    "# test\n",
    "df_input.withColumn(\"SessionStartTime\", regexp_extract(\"SessionMainMenu\", r\":(.*)\", 1)).show(truncate=False)"
   ]
  },
  {
   "cell_type": "code",
   "execution_count": 85,
   "metadata": {},
   "outputs": [],
   "source": [
    "# create SessionStartTime col from SessionMainMenu col\n",
    "df_input = df_input.withColumn(\"SessionStartTime\", \n",
    "            to_timestamp(\n",
    "                regexp_extract(\"SessionMainMenu\", r\":(.*)\", 1),\n",
    "                'yyyy:MM:dd:HH:mm:ss:SSS'\n",
    "            ))"
   ]
  },
  {
   "cell_type": "code",
   "execution_count": 27,
   "metadata": {},
   "outputs": [
    {
     "name": "stdout",
     "output_type": "stream",
     "text": [
      "root\n",
      " |-- MAC: string (nullable = true)\n",
      " |-- SessionMainMenu: string (nullable = true)\n",
      " |-- AppName: string (nullable = true)\n",
      " |-- LogID: string (nullable = true)\n",
      " |-- Event: string (nullable = true)\n",
      " |-- ItemID: string (nullable = true)\n",
      " |-- RealTimePlaying: float (nullable = true)\n",
      " |-- SessionStartTime: timestamp (nullable = true)\n",
      "\n"
     ]
    }
   ],
   "source": [
    "df_input.printSchema()"
   ]
  },
  {
   "cell_type": "markdown",
   "metadata": {},
   "source": [
    "---"
   ]
  },
  {
   "cell_type": "markdown",
   "metadata": {},
   "source": [
    "- Handle nulls"
   ]
  },
  {
   "cell_type": "code",
   "execution_count": 15,
   "metadata": {},
   "outputs": [
    {
     "data": {
      "text/plain": [
       "618523"
      ]
     },
     "execution_count": 15,
     "metadata": {},
     "output_type": "execute_result"
    }
   ],
   "source": [
    "df_input.filter(\"RealTimePlaying is null\").count()"
   ]
  },
  {
   "cell_type": "code",
   "execution_count": 86,
   "metadata": {},
   "outputs": [],
   "source": [
    "df_input = df_input.fillna(0, subset = ['RealTimePlaying'])"
   ]
  },
  {
   "cell_type": "code",
   "execution_count": 30,
   "metadata": {},
   "outputs": [
    {
     "data": {
      "text/plain": [
       "28"
      ]
     },
     "execution_count": 30,
     "metadata": {},
     "output_type": "execute_result"
    }
   ],
   "source": [
    "df_input.filter(\"SessionMainMenu is null\").count()"
   ]
  },
  {
   "cell_type": "markdown",
   "metadata": {},
   "source": [
    "---"
   ]
  },
  {
   "cell_type": "code",
   "execution_count": 60,
   "metadata": {},
   "outputs": [
    {
     "name": "stdout",
     "output_type": "stream",
     "text": [
      "+------------+------------------------------------+-------+-----+------------+---------+---------------+-----------------------+\n",
      "|MAC         |SessionMainMenu                     |AppName|LogID|Event       |ItemID   |RealTimePlaying|SessionStartTime       |\n",
      "+------------+------------------------------------+-------+-----+------------+---------+---------------+-----------------------+\n",
      "|B046FCAC0DC1|B046FCAC0DC1:2016:02:12:12:35:13:437|VOD    |52   |StopVOD     |100052388|570.3          |2016-02-12 12:35:13.437|\n",
      "|B046FCAC0DC1|B046FCAC0DC1:2016:02:11:01:01:56:838|IPTV   |40   |EnterIPTV   |null     |0.0            |2016-02-11 01:01:56.838|\n",
      "|B046FCAC0DC1|B046FCAC0DC1:2016:02:11:01:02:29:258|VOD    |55   |NextVOD     |100052388|0.0            |2016-02-11 01:02:29.258|\n",
      "|B046FCAC0DC1|B046FCAC0DC1:2016:02:12:04:44:59:143|IPTV   |18   |ChangeModule|null     |0.0            |2016-02-12 04:44:59.143|\n",
      "|B046FCAC0DC1|B046FCAC0DC1:2016:02:12:12:35:13:437|VOD    |54   |PlayVOD     |100052388|0.0            |2016-02-12 12:35:13.437|\n",
      "|B046FCAC0DC1|B046FCAC0DC1:2016:02:12:04:44:59:143|IPTV   |40   |EnterIPTV   |null     |0.0            |2016-02-12 04:44:59.143|\n",
      "|B046FCAC0DC1|B046FCAC0DC1:2016:02:12:12:35:13:437|VOD    |55   |NextVOD     |100052388|0.0            |2016-02-12 12:35:13.437|\n",
      "|B046FCAC0DC1|B046FCAC0DC1:2016:02:12:12:35:13:437|VOD    |52   |StopVOD     |100052388|3384.6         |2016-02-12 12:35:13.437|\n",
      "|B046FCAC0DC1|B046FCAC0DC1:2016:02:13:17:25:40:373|IPTV   |40   |EnterIPTV   |null     |0.0            |2016-02-13 17:25:40.373|\n",
      "|B046FCAC0DC1|B046FCAC0DC1:2016:02:14:01:41:40:431|VOD    |52   |StopVOD     |100052388|621.9          |2016-02-14 01:41:40.431|\n",
      "|B046FCAC0DC1|B046FCAC0DC1:2016:02:14:13:48:15:14 |VOD    |18   |ChangeModule|null     |0.0            |2016-02-14 13:48:15.14 |\n",
      "|B046FCAC0DC1|B046FCAC0DC1:2016:02:14:01:41:40:431|VOD    |12   |Standby     |null     |0.0            |2016-02-14 01:41:40.431|\n",
      "|B046FCAC0DC1|B046FCAC0DC1:2016:02:14:01:41:40:431|VOD    |51   |StartVOD    |100052388|0.0            |2016-02-14 01:41:40.431|\n",
      "|B046FCAC0DC1|B046FCAC0DC1:2016:02:14:01:41:40:431|VOD    |51   |StartVOD    |100000148|0.0            |2016-02-14 01:41:40.431|\n",
      "|B046FCAC0DC1|B046FCAC0DC1:2016:02:14:13:48:02:456|IPTV   |42   |StopChannel |158      |6.657          |2016-02-14 13:48:02.456|\n",
      "|B046FCAC0DC1|B046FCAC0DC1:2016:02:17:18:29:12:705|IPTV   |42   |StopChannel |52       |11.327         |2016-02-17 18:29:12.705|\n",
      "|B046FCAC0DC1|B046FCAC0DC1:2016:02:17:00:22:38:341|IPTV   |18   |ChangeModule|null     |0.0            |2016-02-17 00:22:38.341|\n",
      "|B046FCAC0DC1|B046FCAC0DC1:2016:02:17:03:00:34:105|IPTV   |41   |StartChannel|125      |0.0            |2016-02-17 03:00:34.105|\n",
      "|B046FCAC0DC1|B046FCAC0DC1:2016:02:17:03:00:51:849|VOD    |52   |StopVOD     |100052388|1158.6         |2016-02-17 03:00:51.849|\n",
      "|B046FCAC0DC1|B046FCAC0DC1:2016:02:17:00:22:38:341|IPTV   |40   |EnterIPTV   |null     |0.0            |2016-02-17 00:22:38.341|\n",
      "+------------+------------------------------------+-------+-----+------------+---------+---------------+-----------------------+\n",
      "only showing top 20 rows\n",
      "\n"
     ]
    }
   ],
   "source": [
    "# quan sát lần cuối\n",
    "df_input.show(truncate=False)"
   ]
  },
  {
   "cell_type": "markdown",
   "metadata": {},
   "source": [
    "# 2. Analysis"
   ]
  },
  {
   "cell_type": "code",
   "execution_count": 77,
   "metadata": {},
   "outputs": [
    {
     "name": "stdout",
     "output_type": "stream",
     "text": [
      "+----------------+---------+\n",
      "|             MAC|# of days|\n",
      "+----------------+---------+\n",
      "|FBOXB046FCB79E0B|       20|\n",
      "|FBOXB046FCB3528B|      181|\n",
      "|FBOXB046FCAAFB73|      426|\n",
      "|FBOXB046FCAAFB72|      426|\n",
      "|FBOXB046FCAA2085|      429|\n",
      "|FBOXB046FCAA0669|      380|\n",
      "|FBOXB046FCB343BF|      376|\n",
      "|FBOXB046FCAC0CFB|      376|\n",
      "|FBOXB046FCABED45|      378|\n",
      "|FBOXB046FCAD80FC|      305|\n",
      "|FBOXB046FCB1E3FE|      255|\n",
      "|FBOXB046FCB27666|      210|\n",
      "|FBOXB046FCB42341|      142|\n",
      "|FBOXB046FCB6D6B2|       46|\n",
      "|FBOXB046FCB6D4BC|       46|\n",
      "|FBOXB046FCB6D4B6|       46|\n",
      "|FBOXB046FCA6A3F4|      583|\n",
      "|FBOXB046FCA86BD5|      493|\n",
      "|FBOXB046FCABE3BC|      425|\n",
      "|FBOXB046FCAC125F|      374|\n",
      "+----------------+---------+\n",
      "only showing top 20 rows\n",
      "\n"
     ]
    }
   ],
   "source": [
    "# read user_info.txt \n",
    "df_user = spark.read \\\n",
    "    .option(\"header\", \"true\").option(\"sep\", \"\\t\") \\\n",
    "    .csv(\"./DataSampleTest/user_info.txt\")\n",
    "    \n",
    "df_user.show()"
   ]
  },
  {
   "cell_type": "code",
   "execution_count": 78,
   "metadata": {},
   "outputs": [
    {
     "name": "stdout",
     "output_type": "stream",
     "text": [
      "+------------+-------+\n",
      "|         MAC|no_days|\n",
      "+------------+-------+\n",
      "|B046FCB79E0B|     20|\n",
      "|B046FCB3528B|    181|\n",
      "|B046FCAAFB73|    426|\n",
      "|B046FCAAFB72|    426|\n",
      "|B046FCAA2085|    429|\n",
      "|B046FCAA0669|    380|\n",
      "|B046FCB343BF|    376|\n",
      "|B046FCAC0CFB|    376|\n",
      "|B046FCABED45|    378|\n",
      "|B046FCAD80FC|    305|\n",
      "|B046FCB1E3FE|    255|\n",
      "|B046FCB27666|    210|\n",
      "|B046FCB42341|    142|\n",
      "|B046FCB6D6B2|     46|\n",
      "|B046FCB6D4BC|     46|\n",
      "|B046FCB6D4B6|     46|\n",
      "|B046FCA6A3F4|    583|\n",
      "|B046FCA86BD5|    493|\n",
      "|B046FCABE3BC|    425|\n",
      "|B046FCAC125F|    374|\n",
      "+------------+-------+\n",
      "only showing top 20 rows\n",
      "\n"
     ]
    }
   ],
   "source": [
    "# preprocess: remove 'FBOX' prefix \n",
    "from pyspark.sql.functions import *\n",
    "\n",
    "df_user = df_user.withColumnRenamed(\"# of days\", \"no_days\") \\\n",
    "    .withColumn(\"MAC\", \n",
    "        when(col(\"MAC\").startswith(\"FBOX\"), regexp_replace(col(\"MAC\"), \"FBOX\", \"\"))\n",
    "        .otherwise(col(\"MAC\"))\n",
    "    )\n",
    "    \n",
    "df_user.show()"
   ]
  },
  {
   "cell_type": "code",
   "execution_count": 87,
   "metadata": {},
   "outputs": [
    {
     "name": "stdout",
     "output_type": "stream",
     "text": [
      "+------------+------------------------------------+-------+-----+------------+---------+---------------+-----------------------+-------+\n",
      "|MAC         |SessionMainMenu                     |AppName|LogID|Event       |ItemID   |RealTimePlaying|SessionStartTime       |no_days|\n",
      "+------------+------------------------------------+-------+-----+------------+---------+---------------+-----------------------+-------+\n",
      "|B046FCAC0DC1|B046FCAC0DC1:2016:02:12:12:35:13:437|VOD    |52   |StopVOD     |100052388|570.3          |2016-02-12 12:35:13.437|375    |\n",
      "|B046FCAC0DC1|B046FCAC0DC1:2016:02:11:01:01:56:838|IPTV   |40   |EnterIPTV   |NULL     |0.0            |2016-02-11 01:01:56.838|375    |\n",
      "|B046FCAC0DC1|B046FCAC0DC1:2016:02:11:01:02:29:258|VOD    |55   |NextVOD     |100052388|0.0            |2016-02-11 01:02:29.258|375    |\n",
      "|B046FCAC0DC1|B046FCAC0DC1:2016:02:12:04:44:59:143|IPTV   |18   |ChangeModule|NULL     |0.0            |2016-02-12 04:44:59.143|375    |\n",
      "|B046FCAC0DC1|B046FCAC0DC1:2016:02:12:12:35:13:437|VOD    |54   |PlayVOD     |100052388|0.0            |2016-02-12 12:35:13.437|375    |\n",
      "|B046FCAC0DC1|B046FCAC0DC1:2016:02:12:04:44:59:143|IPTV   |40   |EnterIPTV   |NULL     |0.0            |2016-02-12 04:44:59.143|375    |\n",
      "|B046FCAC0DC1|B046FCAC0DC1:2016:02:12:12:35:13:437|VOD    |55   |NextVOD     |100052388|0.0            |2016-02-12 12:35:13.437|375    |\n",
      "|B046FCAC0DC1|B046FCAC0DC1:2016:02:12:12:35:13:437|VOD    |52   |StopVOD     |100052388|3384.6         |2016-02-12 12:35:13.437|375    |\n",
      "|B046FCAC0DC1|B046FCAC0DC1:2016:02:13:17:25:40:373|IPTV   |40   |EnterIPTV   |NULL     |0.0            |2016-02-13 17:25:40.373|375    |\n",
      "|B046FCAC0DC1|B046FCAC0DC1:2016:02:14:01:41:40:431|VOD    |52   |StopVOD     |100052388|621.9          |2016-02-14 01:41:40.431|375    |\n",
      "|B046FCAC0DC1|B046FCAC0DC1:2016:02:14:13:48:15:14 |VOD    |18   |ChangeModule|NULL     |0.0            |2016-02-14 13:48:15.14 |375    |\n",
      "|B046FCAC0DC1|B046FCAC0DC1:2016:02:14:01:41:40:431|VOD    |12   |Standby     |NULL     |0.0            |2016-02-14 01:41:40.431|375    |\n",
      "|B046FCAC0DC1|B046FCAC0DC1:2016:02:14:01:41:40:431|VOD    |51   |StartVOD    |100052388|0.0            |2016-02-14 01:41:40.431|375    |\n",
      "|B046FCAC0DC1|B046FCAC0DC1:2016:02:14:01:41:40:431|VOD    |51   |StartVOD    |100000148|0.0            |2016-02-14 01:41:40.431|375    |\n",
      "|B046FCAC0DC1|B046FCAC0DC1:2016:02:14:13:48:02:456|IPTV   |42   |StopChannel |158      |6.657          |2016-02-14 13:48:02.456|375    |\n",
      "|B046FCAC0DC1|B046FCAC0DC1:2016:02:17:18:29:12:705|IPTV   |42   |StopChannel |52       |11.327         |2016-02-17 18:29:12.705|375    |\n",
      "|B046FCAC0DC1|B046FCAC0DC1:2016:02:17:00:22:38:341|IPTV   |18   |ChangeModule|NULL     |0.0            |2016-02-17 00:22:38.341|375    |\n",
      "|B046FCAC0DC1|B046FCAC0DC1:2016:02:17:03:00:34:105|IPTV   |41   |StartChannel|125      |0.0            |2016-02-17 03:00:34.105|375    |\n",
      "|B046FCAC0DC1|B046FCAC0DC1:2016:02:17:03:00:51:849|VOD    |52   |StopVOD     |100052388|1158.6         |2016-02-17 03:00:51.849|375    |\n",
      "|B046FCAC0DC1|B046FCAC0DC1:2016:02:17:00:22:38:341|IPTV   |40   |EnterIPTV   |NULL     |0.0            |2016-02-17 00:22:38.341|375    |\n",
      "+------------+------------------------------------+-------+-----+------------+---------+---------------+-----------------------+-------+\n",
      "only showing top 20 rows\n",
      "\n"
     ]
    }
   ],
   "source": [
    "df_user_events = df_input.join(df_user, [\"MAC\"])\n",
    "df_user_events.show(truncate=False)"
   ]
  },
  {
   "cell_type": "code",
   "execution_count": 88,
   "metadata": {},
   "outputs": [],
   "source": [
    "# run once: Save somewhere for later analysis\n",
    "df_input.coalesce(1).write.csv(\"user_events.csv\", header=True)"
   ]
  },
  {
   "cell_type": "code",
   "execution_count": 76,
   "metadata": {},
   "outputs": [
    {
     "name": "stdout",
     "output_type": "stream",
     "text": [
      "+------------+--------------------+-------+-----+---------------+---------+---------------+--------------------+\n",
      "|         MAC|     SessionMainMenu|AppName|LogID|          Event|   ItemID|RealTimePlaying|    SessionStartTime|\n",
      "+------------+--------------------+-------+-----+---------------+---------+---------------+--------------------+\n",
      "|B046FCB2DEF0|B046FCB2DEF0:2016...|   IPTV|   42|    StopChannel|      181|         55.437|2016-02-23T19:23:...|\n",
      "|B046FCB2DEF0|B046FCB2DEF0:2016...|   IPTV|   41|   StartChannel|        3|            0.0|2016-02-23T19:23:...|\n",
      "|B046FCB2DEF0|B046FCB2DEF0:2016...|   IPTV|  451|ExitChannelList|       11|         50.738|2016-02-23T08:47:...|\n",
      "|B046FCB2DEF0|B046FCB2DEF0:2016...|   IPTV|   42|    StopChannel|      526|          1.258|2016-02-23T08:47:...|\n",
      "|B046FCB2DEF0|B046FCB2DEF0:2016...|   IPTV|   41|   StartChannel|      184|            0.0|2016-02-23T08:47:...|\n",
      "|B046FCB2DEF0|B046FCB2DEF0:2016...|   IPTV|   41|   StartChannel|      175|            0.0|2016-02-23T08:47:...|\n",
      "|B046FCB2DEF0|B046FCB2DEF0:2016...|   IPTV|   42|    StopChannel|      176|          0.757|2016-02-23T08:47:...|\n",
      "|B046FCB2DEF0|B046FCB2DEF0:2016...|   IPTV|   41|   StartChannel|        1|            0.0|2016-02-23T19:23:...|\n",
      "|B046FCB2DEF0|B046FCB2DEF0:2016...|   IPTV|   41|   StartChannel|        2|            0.0|2016-02-23T19:23:...|\n",
      "|B046FCB2DEF0|B046FCB2DEF0:2016...|   IPTV|   40|      EnterIPTV|     NULL|            0.0|2016-02-23T18:07:...|\n",
      "|B046FCB2DEF0|B046FCB2DEF0:2016...|   IPTV|   42|    StopChannel|       51|          3.816|2016-02-23T19:23:...|\n",
      "|B046FCB2DEF0|B046FCB2DEF0:2016...|   IPTV|   41|   StartChannel|        2|            0.0|2016-02-24T19:18:...|\n",
      "|B046FCB2DEF0|B046FCB2DEF0:2016...|    VOD|  512| EnterDetailVOD|100050403|            0.0|2016-02-24T18:01:...|\n",
      "|B046FCB2DEF0|B046FCB2DEF0:2016...|   IPTV|   41|   StartChannel|        5|            0.0|2016-02-24T19:18:...|\n",
      "|B046FCB2DEF0|B046FCB2DEF0:2016...|   IPTV|   41|   StartChannel|       55|            0.0|2016-02-24T19:18:...|\n",
      "|B046FCB2DEF0|B046FCB2DEF0:2016...|   IPTV|   41|   StartChannel|       21|            0.0|2016-02-24T19:18:...|\n",
      "|B046FCB2DEF0|B046FCB2DEF0:2016...|   IPTV|   41|   StartChannel|      184|            0.0|2016-02-24T19:18:...|\n",
      "|B046FCB2DEF0|B046FCB2DEF0:2016...|   IPTV|   41|   StartChannel|       27|            0.0|2016-02-24T19:18:...|\n",
      "|B046FCB2DEF0|B046FCB2DEF0:2016...|   IPTV|   41|   StartChannel|       32|            0.0|2016-02-24T19:18:...|\n",
      "|B046FCB2DEF0|B046FCB2DEF0:2016...|    VOD|   51|       StartVOD|100050403|            0.0|2016-02-24T18:01:...|\n",
      "+------------+--------------------+-------+-----+---------------+---------+---------------+--------------------+\n",
      "only showing top 20 rows\n",
      "\n"
     ]
    }
   ],
   "source": [
    "df_user_events = spark.read.csv(\"user_events.csv\", header=True)\n",
    "df_user_events.show()"
   ]
  },
  {
   "cell_type": "code",
   "execution_count": 89,
   "metadata": {},
   "outputs": [],
   "source": [
    "# LOCKED\n",
    "df_user_events.createOrReplaceTempView('user_events')"
   ]
  },
  {
   "cell_type": "markdown",
   "metadata": {},
   "source": [
    "#### **Quan sát cơ bản**"
   ]
  },
  {
   "cell_type": "code",
   "execution_count": null,
   "metadata": {},
   "outputs": [
    {
     "name": "stdout",
     "output_type": "stream",
     "text": [
      "+--------------+---------------+-----------------------+-------+-------+---------+\n",
      "|Event         |RealTimePlaying|SessionStartTime       |no_days|AppName|ItemID   |\n",
      "+--------------+---------------+-----------------------+-------+-------+---------+\n",
      "|Standby       |0.0            |2016-02-11 01:02:29.258|375    |VOD    |NULL     |\n",
      "|PlayVOD       |0.0            |2016-02-11 01:02:29.258|375    |VOD    |100052388|\n",
      "|StartVOD      |0.0            |2016-02-11 01:02:29.258|375    |VOD    |100052388|\n",
      "|PlayVOD       |0.0            |2016-02-11 01:02:29.258|375    |VOD    |100052388|\n",
      "|NextVOD       |0.0            |2016-02-11 01:02:29.258|375    |VOD    |100052388|\n",
      "|EnterDetailVOD|0.0            |2016-02-11 01:02:29.258|375    |VOD    |100052388|\n",
      "|PauseVOD      |0.0            |2016-02-11 01:02:29.258|375    |VOD    |100052388|\n",
      "|PlayVOD       |0.0            |2016-02-11 01:02:29.258|375    |VOD    |100052388|\n",
      "|StopVOD       |966.6          |2016-02-11 01:02:29.258|375    |VOD    |100052388|\n",
      "|StopVOD       |3747.0         |2016-02-11 01:02:29.258|375    |VOD    |100052388|\n",
      "|PlayVOD       |0.0            |2016-02-11 01:02:29.258|375    |VOD    |100052388|\n",
      "|PlayVOD       |0.0            |2016-02-11 01:02:29.258|375    |VOD    |100052388|\n",
      "|EnterVOD      |0.0            |2016-02-11 01:02:29.258|375    |VOD    |NULL     |\n",
      "|EnterFolderVOD|0.0            |2016-02-11 01:02:29.258|375    |VOD    |1        |\n",
      "|EnterFolderVOD|0.0            |2016-02-11 01:02:29.258|375    |VOD    |2        |\n",
      "|EnterFolderVOD|0.0            |2016-02-11 01:02:29.258|375    |VOD    |11       |\n",
      "|EnterVOD      |0.0            |2016-02-12 04:45:42.182|375    |VOD    |NULL     |\n",
      "|StopVOD       |1935.0         |2016-02-12 04:45:42.182|375    |VOD    |100052388|\n",
      "|Standby       |0.0            |2016-02-12 04:45:42.182|375    |VOD    |NULL     |\n",
      "|EnterDetailVOD|0.0            |2016-02-12 04:45:42.182|375    |VOD    |100052388|\n",
      "+--------------+---------------+-----------------------+-------+-------+---------+\n",
      "only showing top 20 rows\n",
      "\n"
     ]
    }
   ],
   "source": [
    "spark.sql(\"\"\"\n",
    "    select Event, RealTimePlaying, SessionStartTime, no_days, AppName, ItemID\n",
    "    from user_events\n",
    "    where MAC = 'B046FCAC0DC1' and AppName = 'VOD' --and RealTimePlaying != 0\n",
    "    order by SessionStartTime \n",
    "\"\"\").show(truncate=False)\n",
    "\n",
    "# standby "
   ]
  },
  {
   "cell_type": "code",
   "execution_count": 33,
   "metadata": {},
   "outputs": [
    {
     "name": "stdout",
     "output_type": "stream",
     "text": [
      "+--------------------+\n",
      "|Event               |\n",
      "+--------------------+\n",
      "|ChangeModule        |\n",
      "|ExitPIP             |\n",
      "|PiPSwitch           |\n",
      "|StartTimeshift      |\n",
      "|ShowChannelList     |\n",
      "|EnterIPTV           |\n",
      "|ExitChannelList     |\n",
      "|StopChannel         |\n",
      "|SetAlarm            |\n",
      "|StopTimeshift       |\n",
      "|Standby             |\n",
      "|Show schedule       |\n",
      "|ShowEPG             |\n",
      "|ExitEPG             |\n",
      "|GetDRMKeySuccessful |\n",
      "|GetDRMKeyFailed     |\n",
      "|StartChannel        |\n",
      "|ExitSchedule        |\n",
      "|Turn on from Stanby |\n",
      "|FavouriteChannelList|\n",
      "|RemoveFavorite      |\n",
      "|SearchBS            |\n",
      "+--------------------+\n",
      "\n"
     ]
    }
   ],
   "source": [
    "# app IPTV có những event nào\n",
    "spark.sql(\"\"\"\n",
    "    select distinct(Event)\n",
    "    from user_events\n",
    "    where AppName = 'IPTV'\n",
    "\"\"\").show(100, truncate=False)"
   ]
  },
  {
   "cell_type": "code",
   "execution_count": 34,
   "metadata": {},
   "outputs": [
    {
     "name": "stdout",
     "output_type": "stream",
     "text": [
      "+-------------------+\n",
      "|Event              |\n",
      "+-------------------+\n",
      "|StartVOD           |\n",
      "|ChangeModule       |\n",
      "|EnterSearchVOD     |\n",
      "|PlayVOD            |\n",
      "|NextVOD            |\n",
      "|EnterDetailVOD     |\n",
      "|RemoveFavorite     |\n",
      "|StopVOD            |\n",
      "|EnterFolderVOD     |\n",
      "|Standby            |\n",
      "|InsertFavorite     |\n",
      "|EnterVOD           |\n",
      "|SearchVOD          |\n",
      "|PreviousVOD        |\n",
      "|PauseVOD           |\n",
      "|Turn on from Stanby|\n",
      "+-------------------+\n",
      "\n"
     ]
    }
   ],
   "source": [
    "# app VOD có những event nào\n",
    "spark.sql(\"\"\"\n",
    "    select distinct(Event)\n",
    "    from user_events\n",
    "    where AppName = 'VOD'\n",
    "\"\"\").show(100, truncate=False)"
   ]
  },
  {
   "cell_type": "code",
   "execution_count": 35,
   "metadata": {},
   "outputs": [
    {
     "name": "stdout",
     "output_type": "stream",
     "text": [
      "+------------+------------------------------------+-------+-----+------------+---------+---------------+-----------------------+-------+\n",
      "|MAC         |SessionMainMenu                     |AppName|LogID|Event       |ItemID   |RealTimePlaying|SessionStartTime       |no_days|\n",
      "+------------+------------------------------------+-------+-----+------------+---------+---------------+-----------------------+-------+\n",
      "|B046FCAC0DC1|B046FCAC0DC1:2016:02:17:03:00:34:105|IPTV   |41   |StartChannel|125      |0.0            |2016-02-17 03:00:34.105|375    |\n",
      "|B046FCAC0DC1|B046FCAC0DC1:2016:02:21:22:11:17:200|IPTV   |41   |StartChannel|181      |0.0            |2016-02-21 22:11:17.2  |375    |\n",
      "|B046FCAC0DC1|B046FCAC0DC1:2016:02:21:22:22:08:526|IPTV   |41   |StartChannel|16       |0.0            |2016-02-21 22:22:08.526|375    |\n",
      "|B046FCAC0DC1|B046FCAC0DC1:2016:02:26:03:49:11:766|IPTV   |41   |StartChannel|3        |0.0            |2016-02-26 03:49:11.766|375    |\n",
      "|B046FCAC0DC1|B046FCAC0DC1:2016:02:12:12:34:56:559|IPTV   |41   |StartChannel|158      |0.0            |2016-02-12 12:34:56.559|375    |\n",
      "|B046FCAC0DC1|B046FCAC0DC1:2016:02:13:17:25:40:373|IPTV   |41   |StartChannel|158      |0.0            |2016-02-13 17:25:40.373|375    |\n",
      "|B046FCAC0DC1|B046FCAC0DC1:2016:02:14:01:40:54:392|IPTV   |41   |StartChannel|158      |0.0            |2016-02-14 01:40:54.392|375    |\n",
      "|B046FCAC0DC1|B046FCAC0DC1:2016:02:21:22:11:17:200|IPTV   |41   |StartChannel|3        |0.0            |2016-02-21 22:11:17.2  |375    |\n",
      "|B046FCAC0DC1|B046FCAC0DC1:2016:02:21:22:11:17:200|IPTV   |41   |StartChannel|185      |0.0            |2016-02-21 22:11:17.2  |375    |\n",
      "|B046FCAC0DC1|B046FCAC0DC1:2016:02:21:22:22:08:526|IPTV   |41   |StartChannel|3        |0.0            |2016-02-21 22:22:08.526|375    |\n",
      "|B046FCAC0DC1|B046FCAC0DC1:2016:02:12:12:35:13:437|VOD    |54   |PlayVOD     |100052388|0.0            |2016-02-12 12:35:13.437|375    |\n",
      "|B046FCAC0DC1|B046FCAC0DC1:2016:02:17:18:29:36:914|VOD    |54   |PlayVOD     |100052388|0.0            |2016-02-17 18:29:36.914|375    |\n",
      "|B046FCAC0DC1|B046FCAC0DC1:2016:02:22:02:56:04:951|VOD    |54   |PlayVOD     |100018703|0.0            |2016-02-22 02:56:04.951|375    |\n",
      "|B046FCAC0DC1|B046FCAC0DC1:2016:02:23:01:24:09:188|VOD    |54   |PlayVOD     |100053413|0.0            |2016-02-23 01:24:09.188|375    |\n",
      "|B046FCAC0DC1|B046FCAC0DC1:2016:02:24:00:07:41:472|VOD    |54   |PlayVOD     |100053413|0.0            |2016-02-24 00:07:41.472|375    |\n",
      "|B046FCAC0DC1|B046FCAC0DC1:2016:02:11:01:02:29:258|VOD    |54   |PlayVOD     |100052388|0.0            |2016-02-11 01:02:29.258|375    |\n",
      "|B046FCAC0DC1|B046FCAC0DC1:2016:02:11:01:02:29:258|VOD    |54   |PlayVOD     |100052388|0.0            |2016-02-11 01:02:29.258|375    |\n",
      "|B046FCAC0DC1|B046FCAC0DC1:2016:02:12:12:35:13:437|VOD    |54   |PlayVOD     |100052388|0.0            |2016-02-12 12:35:13.437|375    |\n",
      "|B046FCAC0DC1|B046FCAC0DC1:2016:02:17:03:00:51:849|VOD    |54   |PlayVOD     |100052388|0.0            |2016-02-17 03:00:51.849|375    |\n",
      "|B046FCAC0DC1|B046FCAC0DC1:2016:02:16:03:39:19:149|VOD    |54   |PlayVOD     |100001314|0.0            |2016-02-16 03:39:19.149|375    |\n",
      "+------------+------------------------------------+-------+-----+------------+---------+---------------+-----------------------+-------+\n",
      "\n"
     ]
    }
   ],
   "source": [
    "spark.sql(\"\"\"\n",
    "    (select *\n",
    "    from user_events\n",
    "    where Event = 'StartChannel'\n",
    "    limit 10)\n",
    "    union all\n",
    "    (select *\n",
    "    from user_events\n",
    "    where Event = 'PlayVOD'\n",
    "    limit 10)\n",
    "    \n",
    "\"\"\").show(100, truncate=False)"
   ]
  },
  {
   "cell_type": "markdown",
   "metadata": {},
   "source": [
    "=> Từ 2 cell trên, đoán rằng event 'StartChannel' & 'PlayVOD' là event thực sự xem chương trình gì đó\n",
    "\n",
    "---"
   ]
  },
  {
   "cell_type": "markdown",
   "metadata": {},
   "source": [
    "Rule:\n",
    "- RealTimePlaying chỉ ghi nhận thời lượng xem từ lúc bắt đầu tới kết thúc session. Nên chỉ khác 0 khi rơi vào event 'Stop...' \n",
    "- Đoán nghĩa một số event: \n",
    "  - Enter{AppName} (chọn appname) -> Standby (bật để đó, chưa coi gì) -> Start (khởi động app) -> Play -> Next\n",
    "  - ChangeModule (chuyển kênh)\n",
    "  - PiPSwitch: picture in picture"
   ]
  },
  {
   "cell_type": "code",
   "execution_count": null,
   "metadata": {},
   "outputs": [
    {
     "name": "stdout",
     "output_type": "stream",
     "text": [
      "+--------------+---------------+-----------------------+-------+-------+---------+\n",
      "|Event         |RealTimePlaying|SessionStartTime       |no_days|AppName|ItemID   |\n",
      "+--------------+---------------+-----------------------+-------+-------+---------+\n",
      "|Standby       |0.0            |2016-02-11 01:02:29.258|375    |VOD    |NULL     |\n",
      "|PlayVOD       |0.0            |2016-02-11 01:02:29.258|375    |VOD    |100052388|\n",
      "|StartVOD      |0.0            |2016-02-11 01:02:29.258|375    |VOD    |100052388|\n",
      "|PlayVOD       |0.0            |2016-02-11 01:02:29.258|375    |VOD    |100052388|\n",
      "|NextVOD       |0.0            |2016-02-11 01:02:29.258|375    |VOD    |100052388|\n",
      "|EnterDetailVOD|0.0            |2016-02-11 01:02:29.258|375    |VOD    |100052388|\n",
      "|PauseVOD      |0.0            |2016-02-11 01:02:29.258|375    |VOD    |100052388|\n",
      "|PlayVOD       |0.0            |2016-02-11 01:02:29.258|375    |VOD    |100052388|\n",
      "|StopVOD       |966.6          |2016-02-11 01:02:29.258|375    |VOD    |100052388|\n",
      "|StopVOD       |3747.0         |2016-02-11 01:02:29.258|375    |VOD    |100052388|\n",
      "|PlayVOD       |0.0            |2016-02-11 01:02:29.258|375    |VOD    |100052388|\n",
      "|PlayVOD       |0.0            |2016-02-11 01:02:29.258|375    |VOD    |100052388|\n",
      "|EnterVOD      |0.0            |2016-02-11 01:02:29.258|375    |VOD    |NULL     |\n",
      "|EnterFolderVOD|0.0            |2016-02-11 01:02:29.258|375    |VOD    |1        |\n",
      "|EnterFolderVOD|0.0            |2016-02-11 01:02:29.258|375    |VOD    |2        |\n",
      "|EnterFolderVOD|0.0            |2016-02-11 01:02:29.258|375    |VOD    |11       |\n",
      "|EnterVOD      |0.0            |2016-02-12 04:45:42.182|375    |VOD    |NULL     |\n",
      "|StopVOD       |1935.0         |2016-02-12 04:45:42.182|375    |VOD    |100052388|\n",
      "|Standby       |0.0            |2016-02-12 04:45:42.182|375    |VOD    |NULL     |\n",
      "|EnterDetailVOD|0.0            |2016-02-12 04:45:42.182|375    |VOD    |100052388|\n",
      "+--------------+---------------+-----------------------+-------+-------+---------+\n",
      "only showing top 20 rows\n",
      "\n"
     ]
    }
   ],
   "source": [
    "spark.sql(\"\"\"\n",
    "    select Event, RealTimePlaying, SessionStartTime, no_days, AppName, ItemID\n",
    "    from user_events\n",
    "    where MAC = 'B046FCAC0DC1' and AppName = 'VOD' --and RealTimePlaying != 0\n",
    "    order by SessionStartTime \n",
    "\"\"\").show(truncate=False)\n",
    "\n",
    "# standby "
   ]
  },
  {
   "cell_type": "markdown",
   "metadata": {},
   "source": [
    "---"
   ]
  },
  {
   "cell_type": "code",
   "execution_count": 29,
   "metadata": {},
   "outputs": [
    {
     "name": "stdout",
     "output_type": "stream",
     "text": [
      "+-----------------------+----------------------+\n",
      "|min                    |max                   |\n",
      "+-----------------------+----------------------+\n",
      "|2015-08-11 00:04:13.108|2017-02-03 10:19:19.11|\n",
      "+-----------------------+----------------------+\n",
      "\n",
      "+----+----------+\n",
      "|year|no_records|\n",
      "+----+----------+\n",
      "|2015|2248      |\n",
      "|2016|1026513   |\n",
      "|NULL|28        |\n",
      "|2017|2         |\n",
      "+----+----------+\n",
      "\n"
     ]
    }
   ],
   "source": [
    "# quan sát timeframe của data\n",
    "spark.sql(\"\"\"\n",
    "    select min(SessionStartTime) as min, max(SessionStartTime) as max\n",
    "    from user_events        \n",
    "\"\"\").show(truncate=False) # khoảng 2 năm\n",
    "\n",
    "# số records mỗi năm\n",
    "spark.sql(\"\"\"\n",
    "    select year(SessionStartTime) as year, count(1) as no_records\n",
    "    from user_events\n",
    "    group by year(SessionStartTime)        \n",
    "\"\"\").show(truncate=False)"
   ]
  },
  {
   "cell_type": "markdown",
   "metadata": {},
   "source": [
    "=> Năm 2016 có nhiều records nhất, đáng để phân tích"
   ]
  },
  {
   "cell_type": "markdown",
   "metadata": {},
   "source": [
    "#### **User thường coi phim trên app nào**"
   ]
  },
  {
   "cell_type": "code",
   "execution_count": null,
   "metadata": {},
   "outputs": [
    {
     "name": "stdout",
     "output_type": "stream",
     "text": [
      "+-------+\n",
      "|appname|\n",
      "+-------+\n",
      "|   IPTV|\n",
      "|    VOD|\n",
      "+-------+\n",
      "\n"
     ]
    }
   ],
   "source": [
    "# check distinct app names\n",
    "spark.sql(\"select distinct(AppName) as appname from user_events\").show() "
   ]
  },
  {
   "cell_type": "code",
   "execution_count": null,
   "metadata": {},
   "outputs": [
    {
     "name": "stdout",
     "output_type": "stream",
     "text": [
      "+-------+--------+\n",
      "|AppName|no_users|\n",
      "+-------+--------+\n",
      "|   IPTV|    1693|\n",
      "|    VOD|    1299|\n",
      "+-------+--------+\n",
      "\n"
     ]
    }
   ],
   "source": [
    "df_app_usage = spark.sql(\"\"\"\n",
    "    select AppName, count(distinct(MAC)) as no_users\n",
    "    from user_events\n",
    "    group by AppName\n",
    "\"\"\")\n",
    "\n",
    "df_app_usage.show()"
   ]
  },
  {
   "cell_type": "markdown",
   "metadata": {},
   "source": [
    "=> IPTV nhiều hơn"
   ]
  },
  {
   "cell_type": "markdown",
   "metadata": {},
   "source": [
    "- Follow-up: Hành vi nào dc thực hiện nhiều nhất bởi user theo từng App"
   ]
  },
  {
   "cell_type": "code",
   "execution_count": 75,
   "metadata": {},
   "outputs": [
    {
     "name": "stdout",
     "output_type": "stream",
     "text": [
      "+-------+--------------+-----------+---+\n",
      "|AppName|         Event|event_count|seq|\n",
      "+-------+--------------+-----------+---+\n",
      "|   IPTV|  StartChannel|     269942|  1|\n",
      "|    VOD|EnterFolderVOD|      44359|  1|\n",
      "+-------+--------------+-----------+---+\n",
      "\n"
     ]
    }
   ],
   "source": [
    "spark.sql(\"\"\"\n",
    "    select *\n",
    "    from (\n",
    "        select AppName, Event, count(1) as event_count,\n",
    "            row_number() over(partition by AppName order by count(1) desc) as seq\n",
    "        from user_events\n",
    "        group by AppName, Event      \n",
    "        order by AppName, event_count desc    \n",
    "    ) t\n",
    "    where seq = 1\n",
    "\"\"\").show()"
   ]
  },
  {
   "cell_type": "markdown",
   "metadata": {},
   "source": [
    "- Follow up: với mỗi loại app, user session thường kéo dài bao lâu?"
   ]
  },
  {
   "cell_type": "code",
   "execution_count": 24,
   "metadata": {},
   "outputs": [
    {
     "name": "stdout",
     "output_type": "stream",
     "text": [
      "+-------+------------+----------------+-------------+\n",
      "|AppName|         MAC|avg_session_time|session_count|\n",
      "+-------+------------+----------------+-------------+\n",
      "|   IPTV|B046FCB209E8|        972361.0|            6|\n",
      "|   IPTV|B046FCAA1C30|       679540.81|            1|\n",
      "|   IPTV|B046FCAD1490|       365302.82|            2|\n",
      "|   IPTV|B046FCA7BCB5|       297794.48|           12|\n",
      "|   IPTV|B046FCAD8739|       269270.79|            6|\n",
      "|   IPTV|B046FCAD1EEA|       205780.11|          152|\n",
      "|   IPTV|B046FCB28BCA|       186265.67|           10|\n",
      "|   IPTV|B046FCB2CB2B|       117000.34|            8|\n",
      "|   IPTV|B046FCAE382D|        83202.57|          212|\n",
      "|   IPTV|B046FCA988C7|        70766.88|           10|\n",
      "|   IPTV|B046FCB889C2|         54506.5|           29|\n",
      "|   IPTV|B046FCAC1AF2|        37990.41|           19|\n",
      "|   IPTV|B046FCAEDDC2|        36482.12|           33|\n",
      "|   IPTV|B046FCB6B37D|        36306.78|          431|\n",
      "|   IPTV|B046FCB77EA4|        32561.46|            9|\n",
      "|   IPTV|B046FCABE1C2|        30627.41|           29|\n",
      "|   IPTV|B046FCB564DF|        28930.04|           14|\n",
      "|   IPTV|B046FCAA163A|        26679.09|           39|\n",
      "|   IPTV|B046FCB5BE74|        23482.58|           65|\n",
      "|   IPTV|B046FCAEDB5E|        23287.11|           69|\n",
      "+-------+------------+----------------+-------------+\n",
      "only showing top 20 rows\n",
      "\n"
     ]
    }
   ],
   "source": [
    "spark.sql(\"\"\"\n",
    "    select AppName, MAC, round(avg(RealTimePlaying), 2) as avg_session_time, count(1) as session_count\n",
    "    from user_events\n",
    "    where RealTimePlaying != 0\n",
    "    group by AppName, MAC      \n",
    "    order by AppName, avg_session_time desc    \n",
    "\"\"\").show()"
   ]
  },
  {
   "cell_type": "code",
   "execution_count": 25,
   "metadata": {},
   "outputs": [
    {
     "name": "stdout",
     "output_type": "stream",
     "text": [
      "+-------+----------------+-------------+\n",
      "|AppName|avg_session_time|session_count|\n",
      "+-------+----------------+-------------+\n",
      "|   IPTV|         1271.01|       282950|\n",
      "|    VOD|         1215.21|        43021|\n",
      "+-------+----------------+-------------+\n",
      "\n"
     ]
    }
   ],
   "source": [
    "# lấy TB cho mỗi appname\n",
    "spark.sql(\"\"\"\n",
    "    select AppName, round(avg(RealTimePlaying), 2) as avg_session_time, count(1) as session_count\n",
    "    from user_events\n",
    "    where RealTimePlaying != 0\n",
    "    group by AppName   \n",
    "    order by AppName \n",
    "\"\"\").show()"
   ]
  },
  {
   "cell_type": "markdown",
   "metadata": {},
   "source": [
    "#### **Xét riêng năm 2016, thống kê lượng truy cập app theo tháng**"
   ]
  },
  {
   "cell_type": "code",
   "execution_count": 30,
   "metadata": {},
   "outputs": [
    {
     "name": "stdout",
     "output_type": "stream",
     "text": [
      "+----------+-----------------+--------------------+\n",
      "|month_2016|no_distinct_users|no_distinct_programs|\n",
      "+----------+-----------------+--------------------+\n",
      "|         2|             1612|                3839|\n",
      "|         3|              513|                1299|\n",
      "|         8|               41|                 116|\n",
      "|         9|               32|                  30|\n",
      "|        10|                9|                   1|\n",
      "|         7|                5|                   9|\n",
      "+----------+-----------------+--------------------+\n",
      "\n"
     ]
    }
   ],
   "source": [
    "spark.sql(\"\"\"\n",
    "    select month(SessionStartTime) as month_2016, \n",
    "        count(distinct MAC) as no_distinct_users,\n",
    "        count(distinct ItemID) as no_distinct_programs\n",
    "    from user_events\n",
    "    where Event like 'Enter%' and year(SessionStartTime) = 2016\n",
    "    group by month(SessionStartTime)\n",
    "    order by no_distinct_users desc \n",
    "\"\"\").show()"
   ]
  },
  {
   "cell_type": "markdown",
   "metadata": {},
   "source": [
    "=> User active nhất vào tháng 2 & 3, chắc là do Tết nên nghỉ nhiều, nhu cầu giải trí nhiều \\\n",
    "=> Cũng 2 tháng này có user coi nhiều loại chương trình nhất"
   ]
  },
  {
   "cell_type": "markdown",
   "metadata": {},
   "source": [
    "#### **Mỗi user có bao nhiêu session xem phim mỗi tháng & trung bình tháng đó có bao nhiêu lượt xem**"
   ]
  },
  {
   "cell_type": "markdown",
   "metadata": {},
   "source": [
    "- Run either this cell or next cell"
   ]
  },
  {
   "cell_type": "code",
   "execution_count": 27,
   "metadata": {},
   "outputs": [
    {
     "name": "stdout",
     "output_type": "stream",
     "text": [
      "+------------+-------------------+-----------------+\n",
      "|         MAC|session_start_month|no_active_session|\n",
      "+------------+-------------------+-----------------+\n",
      "|B046FCA69EA6|            2016-02|               91|\n",
      "|B046FCA6A074|            2016-02|              206|\n",
      "|B046FCA6A27E|            2016-02|              131|\n",
      "|B046FCA6A450|            2016-02|              162|\n",
      "|B046FCA6A47D|            2016-02|               14|\n",
      "|B046FCA6A4F6|            2016-02|              149|\n",
      "|B046FCA6A58E|            2016-02|              257|\n",
      "|B046FCA6A61F|            2016-02|               90|\n",
      "|B046FCA6A675|            2016-02|              126|\n",
      "|B046FCA6A684|            2016-02|              450|\n",
      "|B046FCA6A684|            2016-03|              186|\n",
      "|B046FCA6A6F0|            2016-02|                1|\n",
      "|B046FCA6A7D7|            2016-02|              286|\n",
      "|B046FCA6A800|            2016-02|              198|\n",
      "|B046FCA6A800|            2016-03|               26|\n",
      "|B046FCA6A8AE|            2015-08|                3|\n",
      "|B046FCA6A8AE|            2016-02|              245|\n",
      "|B046FCA6A928|            2016-02|                5|\n",
      "|B046FCA6AA1F|            2016-02|                5|\n",
      "|B046FCA6AA1F|            2016-03|                5|\n",
      "+------------+-------------------+-----------------+\n",
      "only showing top 20 rows\n",
      "\n"
     ]
    }
   ],
   "source": [
    "df_active_session_by_user = spark.read.csv(\"active_session_by_user.csv\") \\\n",
    "    .withColumnRenamed(\"_c0\", \"MAC\") \\\n",
    "    .withColumnRenamed(\"_c1\", \"session_start_month\") \\\n",
    "    .withColumnRenamed(\"_c2\", \"no_active_session\") \n",
    "    \n",
    "df_active_session_by_user.show()"
   ]
  },
  {
   "cell_type": "code",
   "execution_count": 33,
   "metadata": {},
   "outputs": [
    {
     "name": "stdout",
     "output_type": "stream",
     "text": [
      "+------------+-------------------+-----------------+\n",
      "|         MAC|session_start_month|no_active_session|\n",
      "+------------+-------------------+-----------------+\n",
      "|B046FCA69EA6|            2016-02|               91|\n",
      "|B046FCA6A074|            2016-02|              206|\n",
      "|B046FCA6A27E|            2016-02|              131|\n",
      "|B046FCA6A450|            2016-02|              162|\n",
      "|B046FCA6A47D|            2016-02|               14|\n",
      "|B046FCA6A4F6|            2016-02|              149|\n",
      "|B046FCA6A58E|            2016-02|              257|\n",
      "|B046FCA6A61F|            2016-02|               90|\n",
      "|B046FCA6A675|            2016-02|              126|\n",
      "|B046FCA6A684|            2016-02|              225|\n",
      "|B046FCA6A684|            2016-03|               93|\n",
      "|B046FCA6A6F0|            2016-02|                1|\n",
      "|B046FCA6A7D7|            2016-02|              286|\n",
      "|B046FCA6A800|            2016-02|              198|\n",
      "|B046FCA6A800|            2016-03|               26|\n",
      "|B046FCA6A8AE|            2015-08|                3|\n",
      "|B046FCA6A8AE|            2016-02|              245|\n",
      "|B046FCA6A928|            2016-02|                5|\n",
      "|B046FCA6AA1F|            2016-02|                5|\n",
      "|B046FCA6AA1F|            2016-03|                5|\n",
      "+------------+-------------------+-----------------+\n",
      "only showing top 20 rows\n",
      "\n"
     ]
    }
   ],
   "source": [
    "df_active_session_by_user = spark.sql(\"\"\"\n",
    "    select MAC, date_format(SessionStartTime, 'yyyy-MM') as session_start_month,\n",
    "        count(1) as no_active_session\n",
    "    from (\n",
    "        select *\n",
    "        from user_events\n",
    "        where Event = 'StartVOD' or Event = 'StartChannel'\n",
    "    ) t\n",
    "    group by MAC, session_start_month\n",
    "    order by MAC, session_start_month, no_active_session desc\n",
    "\"\"\")\n",
    "\n",
    "df_active_session_by_user.show()"
   ]
  },
  {
   "cell_type": "code",
   "execution_count": 34,
   "metadata": {},
   "outputs": [],
   "source": [
    "# run once: save for later analysis\n",
    "df_active_session_by_user.coalesce(1).write.csv(\"active_session_by_user.csv\", header=True)"
   ]
  },
  {
   "cell_type": "code",
   "execution_count": 35,
   "metadata": {},
   "outputs": [],
   "source": [
    "df_active_session_by_user.createOrReplaceTempView(\"active_session_by_user\")"
   ]
  },
  {
   "cell_type": "code",
   "execution_count": 36,
   "metadata": {},
   "outputs": [
    {
     "name": "stdout",
     "output_type": "stream",
     "text": [
      "+-------------------+-------------+-------------+--------------+\n",
      "|session_start_month|low_threshold|med_threshold|high_threshold|\n",
      "+-------------------+-------------+-------------+--------------+\n",
      "|               NULL|            1|            1|             1|\n",
      "|            2015-08|            1|            3|             8|\n",
      "|            2016-02|           28|          114|           237|\n",
      "|            2016-03|            8|           29|            67|\n",
      "|            2016-07|            3|            3|            14|\n",
      "|            2016-08|            1|            5|            22|\n",
      "|            2016-09|            1|            2|             9|\n",
      "|            2016-10|            1|            2|             5|\n",
      "+-------------------+-------------+-------------+--------------+\n",
      "\n"
     ]
    }
   ],
   "source": [
    "percentiles_df = spark.sql(\"\"\"\n",
    "    SELECT \n",
    "        session_start_month,\n",
    "        percentile_approx(no_active_session, 0.25) AS low_threshold,\n",
    "        percentile_approx(no_active_session, 0.5) AS med_threshold,\n",
    "        percentile_approx(no_active_session, 0.75) AS high_threshold\n",
    "    FROM active_session_by_user\n",
    "    GROUP BY session_start_month\n",
    "    ORDER BY session_start_month\n",
    "\"\"\")\n",
    "\n",
    "percentiles_df.show()"
   ]
  },
  {
   "cell_type": "code",
   "execution_count": 37,
   "metadata": {},
   "outputs": [
    {
     "name": "stdout",
     "output_type": "stream",
     "text": [
      "+-------------------+-------------+-------------+--------------+------------+-----------------+------+\n",
      "|session_start_month|low_threshold|med_threshold|high_threshold|         MAC|no_active_session| label|\n",
      "+-------------------+-------------+-------------+--------------+------------+-----------------+------+\n",
      "|            2016-02|           28|          114|           237|B046FCB5E9FD|              147|medium|\n",
      "|            2016-02|           28|          114|           237|B046FCB25A46|              238|  high|\n",
      "|            2016-02|           28|          114|           237|B046FCADBF9A|              192|medium|\n",
      "|            2016-02|           28|          114|           237|B046FCA7C243|              368|  high|\n",
      "|            2016-02|           28|          114|           237|B046FCB88C02|              134|medium|\n",
      "|            2016-02|           28|          114|           237|B046FCADC4AF|               10|  high|\n",
      "|            2016-02|           28|          114|           237|B046FCADC07A|               10|  high|\n",
      "|            2016-02|           28|          114|           237|B046FCA6ABCA|                5|  high|\n",
      "|            2016-02|           28|          114|           237|B046FCAEE072|               13|  high|\n",
      "|            2016-02|           28|          114|           237|B046FCB7E768|              324|  high|\n",
      "|            2016-02|           28|          114|           237|B046FCA9881A|              174|medium|\n",
      "|            2016-02|           28|          114|           237|B046FCAB142F|               95|   low|\n",
      "|            2016-02|           28|          114|           237|B046FCB88C0F|              244|  high|\n",
      "|            2016-02|           28|          114|           237|B046FCB79541|              121|medium|\n",
      "|            2016-02|           28|          114|           237|B046FCAC0CD6|              212|medium|\n",
      "|            2016-02|           28|          114|           237|B046FCACEB72|                9|  high|\n",
      "|            2016-02|           28|          114|           237|B046FCB34A3B|               29|   low|\n",
      "|            2016-02|           28|          114|           237|B046FCB7ADEF|              259|  high|\n",
      "|            2016-02|           28|          114|           237|B046FCACB15E|              163|medium|\n",
      "|            2016-02|           28|          114|           237|B046FCB7E4F2|                3|  high|\n",
      "+-------------------+-------------+-------------+--------------+------------+-----------------+------+\n",
      "only showing top 20 rows\n",
      "\n"
     ]
    }
   ],
   "source": [
    "df_user_label = percentiles_df.join(df_active_session_by_user, ['session_start_month']) \\\n",
    "    .withColumn('label', \n",
    "        when((col('no_active_session') >= col('low_threshold')) & (col('no_active_session') < col('med_threshold')), 'low') \\\n",
    "        .when((col('no_active_session') >= col('med_threshold')) & (col('no_active_session') < col('high_threshold')), 'medium') \\\n",
    "        .otherwise('high')\n",
    "    )\n",
    "    \n",
    "df_user_label.show()"
   ]
  },
  {
   "cell_type": "code",
   "execution_count": 38,
   "metadata": {},
   "outputs": [
    {
     "name": "stdout",
     "output_type": "stream",
     "text": [
      "+------+-----+\n",
      "| label|count|\n",
      "+------+-----+\n",
      "|   low|  590|\n",
      "|  high| 1104|\n",
      "|medium|  575|\n",
      "+------+-----+\n",
      "\n"
     ]
    }
   ],
   "source": [
    "df_user_label.groupBy('label').count().show()"
   ]
  },
  {
   "cell_type": "code",
   "execution_count": 45,
   "metadata": {},
   "outputs": [],
   "source": [
    "df_user_label.createOrReplaceTempView('user_label')"
   ]
  },
  {
   "cell_type": "code",
   "execution_count": 46,
   "metadata": {},
   "outputs": [
    {
     "name": "stdout",
     "output_type": "stream",
     "text": [
      "+-------------------+-------------+-------------+--------------+------------+-----------------+-----+\n",
      "|session_start_month|low_threshold|med_threshold|high_threshold|         MAC|no_active_session|label|\n",
      "+-------------------+-------------+-------------+--------------+------------+-----------------+-----+\n",
      "|            2016-02|           28|          114|           237|B046FCACDF75|               90|  low|\n",
      "|            2016-02|           28|          114|           237|B046FCAF1699|               84|  low|\n",
      "|            2016-02|           28|          114|           237|B046FCAC8131|               46|  low|\n",
      "|            2016-02|           28|          114|           237|B046FCAEEDEA|               77|  low|\n",
      "|            2016-02|           28|          114|           237|B046FCACB8EF|               64|  low|\n",
      "|            2016-02|           28|          114|           237|B046FCA98FF2|               49|  low|\n",
      "|            2016-02|           28|          114|           237|B046FCB795EF|               65|  low|\n",
      "|            2016-02|           28|          114|           237|B046FCAB6C73|              113|  low|\n",
      "|            2016-02|           28|          114|           237|B046FCB5803E|               77|  low|\n",
      "|            2016-02|           28|          114|           237|B046FCB83DF5|               61|  low|\n",
      "|            2016-02|           28|          114|           237|B046FCACBA44|               28|  low|\n",
      "|            2016-02|           28|          114|           237|B046FCB19FB6|               50|  low|\n",
      "|            2016-02|           28|          114|           237|B046FCB58943|              112|  low|\n",
      "|            2016-03|            8|           29|            67|B046FCB4EFC1|               17|  low|\n",
      "|            2016-03|            8|           29|            67|B046FCB5803E|               28|  low|\n",
      "|            2016-02|           28|          114|           237|B046FCB6C474|               30|  low|\n",
      "|            2016-03|            8|           29|            67|B046FCB19FB6|                8|  low|\n",
      "|            2016-03|            8|           29|            67|B046FCA98FF2|               26|  low|\n",
      "|            2016-02|           28|          114|           237|B046FCB25D95|              113|  low|\n",
      "|            2016-02|           28|          114|           237|B046FCAE3460|               72|  low|\n",
      "+-------------------+-------------+-------------+--------------+------------+-----------------+-----+\n",
      "only showing top 20 rows\n",
      "\n"
     ]
    }
   ],
   "source": [
    "# lọc HIGH & MEDIUM- users ra khỏi LOW-users\n",
    "df_low_active_user = df_user_label.where(\"MAC not in (select MAC from user_label where label = 'high' or label = 'medium')\")\n",
    "df_low_active_user.show()"
   ]
  },
  {
   "cell_type": "code",
   "execution_count": 47,
   "metadata": {},
   "outputs": [
    {
     "data": {
      "text/plain": [
       "371"
      ]
     },
     "execution_count": 47,
     "metadata": {},
     "output_type": "execute_result"
    }
   ],
   "source": [
    "# check sau khi loại đi thì low user từ 590 còn 371 người thuần low\n",
    "df_low_active_user.count()"
   ]
  },
  {
   "cell_type": "code",
   "execution_count": 62,
   "metadata": {},
   "outputs": [
    {
     "name": "stdout",
     "output_type": "stream",
     "text": [
      "+------------+----------------------------+--------------------+\n",
      "|         MAC|avg_active_session_per_month|active_session_label|\n",
      "+------------+----------------------------+--------------------+\n",
      "|B046FCA69EA6|                        91.0|                 low|\n",
      "|B046FCA6A61F|                        90.0|                 low|\n",
      "|B046FCA6B12C|                        50.0|                 low|\n",
      "|B046FCA7BAE6|                        35.0|                 low|\n",
      "|B046FCA7BD3A|                        40.0|                 low|\n",
      "|B046FCA7C34C|                        77.0|                 low|\n",
      "|B046FCA7C574|                        50.0|                 low|\n",
      "|B046FCA7C823|                        35.5|                 low|\n",
      "|B046FCA7CA69|                        37.0|                 low|\n",
      "|B046FCA85F41|                        44.0|                 low|\n",
      "|B046FCA85F7E|                        39.0|                 low|\n",
      "|B046FCA85F8F|                        74.0|                 low|\n",
      "|B046FCA86066|                        51.0|                 low|\n",
      "|B046FCA860BC|                        51.0|                 low|\n",
      "|B046FCA862C8|                        64.0|                 low|\n",
      "|B046FCA862DF|                        38.0|                 low|\n",
      "|B046FCA86474|                        65.0|                 low|\n",
      "|B046FCA86530|                        85.0|                 low|\n",
      "|B046FCA865A8|                        60.0|                 low|\n",
      "|B046FCA86716|                        55.0|                 low|\n",
      "+------------+----------------------------+--------------------+\n",
      "only showing top 20 rows\n",
      "\n"
     ]
    }
   ],
   "source": [
    "# do ngày tháng\n",
    "df_low_active_user = df_user_label \\\n",
    "    .where(\"MAC not in (select MAC from user_label where label = 'high' or label = 'medium')\") \\\n",
    "    .groupBy(col(\"MAC\")) \\\n",
    "    .agg(avg(col(\"no_active_session\")).alias(\"avg_active_session_per_month\")) \\\n",
    "    .withColumn(\"active_session_label\", lit(\"low\")) \\\n",
    "    .orderBy(col(\"MAC\")) \n",
    "    \n",
    "df_low_active_user.show()"
   ]
  },
  {
   "cell_type": "code",
   "execution_count": 63,
   "metadata": {},
   "outputs": [
    {
     "data": {
      "text/plain": [
       "320"
      ]
     },
     "execution_count": 63,
     "metadata": {},
     "output_type": "execute_result"
    }
   ],
   "source": [
    "df_low_active_user.count()"
   ]
  },
  {
   "cell_type": "code",
   "execution_count": 64,
   "metadata": {},
   "outputs": [],
   "source": [
    "df_low_active_user \\\n",
    "    .coalesce(1) \\\n",
    "    .write.csv(\"churn_user/low_active_user.csv\", header=True)"
   ]
  },
  {
   "cell_type": "markdown",
   "metadata": {},
   "source": [
    "#### **Các lần xem phim giãn bao nhiêu ngày**\n"
   ]
  },
  {
   "cell_type": "markdown",
   "metadata": {},
   "source": [
    "User trở lại xem phim khi nào kể từ lần cuối xem phim"
   ]
  },
  {
   "cell_type": "code",
   "execution_count": 106,
   "metadata": {},
   "outputs": [
    {
     "name": "stdout",
     "output_type": "stream",
     "text": [
      "+------------+--------------------+-------+-----+------------+---------+---------------+--------------------+-------+\n",
      "|         MAC|     SessionMainMenu|AppName|LogID|       Event|   ItemID|RealTimePlaying|    SessionStartTime|no_days|\n",
      "+------------+--------------------+-------+-----+------------+---------+---------------+--------------------+-------+\n",
      "|B046FCAC0DC1|B046FCAC0DC1:2016...|    VOD|   52|     StopVOD|100052388|          570.3|2016-02-12 12:35:...|    375|\n",
      "|B046FCAC0DC1|B046FCAC0DC1:2016...|   IPTV|   40|   EnterIPTV|     NULL|            0.0|2016-02-11 01:01:...|    375|\n",
      "|B046FCAC0DC1|B046FCAC0DC1:2016...|    VOD|   55|     NextVOD|100052388|            0.0|2016-02-11 01:02:...|    375|\n",
      "|B046FCAC0DC1|B046FCAC0DC1:2016...|   IPTV|   18|ChangeModule|     NULL|            0.0|2016-02-12 04:44:...|    375|\n",
      "|B046FCAC0DC1|B046FCAC0DC1:2016...|    VOD|   54|     PlayVOD|100052388|            0.0|2016-02-12 12:35:...|    375|\n",
      "|B046FCAC0DC1|B046FCAC0DC1:2016...|   IPTV|   40|   EnterIPTV|     NULL|            0.0|2016-02-12 04:44:...|    375|\n",
      "|B046FCAC0DC1|B046FCAC0DC1:2016...|    VOD|   55|     NextVOD|100052388|            0.0|2016-02-12 12:35:...|    375|\n",
      "|B046FCAC0DC1|B046FCAC0DC1:2016...|    VOD|   52|     StopVOD|100052388|         3384.6|2016-02-12 12:35:...|    375|\n",
      "|B046FCAC0DC1|B046FCAC0DC1:2016...|   IPTV|   40|   EnterIPTV|     NULL|            0.0|2016-02-13 17:25:...|    375|\n",
      "|B046FCAC0DC1|B046FCAC0DC1:2016...|    VOD|   52|     StopVOD|100052388|          621.9|2016-02-14 01:41:...|    375|\n",
      "|B046FCAC0DC1|B046FCAC0DC1:2016...|    VOD|   18|ChangeModule|     NULL|            0.0|2016-02-14 13:48:...|    375|\n",
      "|B046FCAC0DC1|B046FCAC0DC1:2016...|    VOD|   12|     Standby|     NULL|            0.0|2016-02-14 01:41:...|    375|\n",
      "|B046FCAC0DC1|B046FCAC0DC1:2016...|    VOD|   51|    StartVOD|100052388|            0.0|2016-02-14 01:41:...|    375|\n",
      "|B046FCAC0DC1|B046FCAC0DC1:2016...|    VOD|   51|    StartVOD|100000148|            0.0|2016-02-14 01:41:...|    375|\n",
      "|B046FCAC0DC1|B046FCAC0DC1:2016...|   IPTV|   42| StopChannel|      158|          6.657|2016-02-14 13:48:...|    375|\n",
      "|B046FCAC0DC1|B046FCAC0DC1:2016...|   IPTV|   42| StopChannel|       52|         11.327|2016-02-17 18:29:...|    375|\n",
      "|B046FCAC0DC1|B046FCAC0DC1:2016...|   IPTV|   18|ChangeModule|     NULL|            0.0|2016-02-17 00:22:...|    375|\n",
      "|B046FCAC0DC1|B046FCAC0DC1:2016...|   IPTV|   41|StartChannel|      125|            0.0|2016-02-17 03:00:...|    375|\n",
      "|B046FCAC0DC1|B046FCAC0DC1:2016...|    VOD|   52|     StopVOD|100052388|         1158.6|2016-02-17 03:00:...|    375|\n",
      "|B046FCAC0DC1|B046FCAC0DC1:2016...|   IPTV|   40|   EnterIPTV|     NULL|            0.0|2016-02-17 00:22:...|    375|\n",
      "+------------+--------------------+-------+-----+------------+---------+---------------+--------------------+-------+\n",
      "only showing top 20 rows\n",
      "\n"
     ]
    }
   ],
   "source": [
    "# Quan sát bảng user_events\n",
    "spark.sql(\"select * from user_events\").show()"
   ]
  },
  {
   "cell_type": "code",
   "execution_count": 20,
   "metadata": {},
   "outputs": [
    {
     "name": "stdout",
     "output_type": "stream",
     "text": [
      "+------------+------------------+-------+------------+--------+\n",
      "|         MAC|session_start_date|AppName|prev_session|day_diff|\n",
      "+------------+------------------+-------+------------+--------+\n",
      "|B046FCA69EA6|        2016-02-05|   IPTV|        NULL|    NULL|\n",
      "|B046FCA69EA6|        2016-02-10|   IPTV|  2016-02-05|       5|\n",
      "|B046FCA69EA6|        2016-02-12|   IPTV|  2016-02-10|       2|\n",
      "|B046FCA69EA6|        2016-02-13|   IPTV|  2016-02-12|       1|\n",
      "|B046FCA69EA6|        2016-02-14|   IPTV|  2016-02-13|       1|\n",
      "|B046FCA69EA6|        2016-02-17|   IPTV|  2016-02-14|       3|\n",
      "|B046FCA69EA6|        2016-02-21|   IPTV|  2016-02-17|       4|\n",
      "|B046FCA69EA6|        2016-02-22|   IPTV|  2016-02-21|       1|\n",
      "|B046FCA6A074|        2016-02-04|   IPTV|        NULL|    NULL|\n",
      "|B046FCA6A074|        2016-02-05|   IPTV|  2016-02-04|       1|\n",
      "|B046FCA6A074|        2016-02-13|   IPTV|  2016-02-05|       8|\n",
      "|B046FCA6A074|        2016-02-14|   IPTV|  2016-02-13|       1|\n",
      "|B046FCA6A074|        2016-02-15|   IPTV|  2016-02-14|       1|\n",
      "|B046FCA6A074|        2016-02-16|   IPTV|  2016-02-15|       1|\n",
      "|B046FCA6A074|        2016-02-17|   IPTV|  2016-02-16|       1|\n",
      "|B046FCA6A074|        2016-02-18|   IPTV|  2016-02-17|       1|\n",
      "|B046FCA6A074|        2016-02-19|   IPTV|  2016-02-18|       1|\n",
      "|B046FCA6A074|        2016-02-20|   IPTV|  2016-02-19|       1|\n",
      "|B046FCA6A074|        2016-02-21|   IPTV|  2016-02-20|       1|\n",
      "|B046FCA6A074|        2016-02-21|    VOD|        NULL|    NULL|\n",
      "+------------+------------------+-------+------------+--------+\n",
      "only showing top 20 rows\n",
      "\n"
     ]
    }
   ],
   "source": [
    "# tính day gap giữa những lần sdụng app của mỗi user \n",
    "df_recency = spark.sql(\"\"\"\n",
    "    select MAC, session_start_date, AppName,\n",
    "        lag(session_start_date) over (partition by MAC, AppName order by session_start_date) as prev_session,\n",
    "        date_diff(\n",
    "            session_start_date, \n",
    "            lag(session_start_date) over (partition by MAC, AppName order by session_start_date)\n",
    "        ) as day_diff\n",
    "    from ( \n",
    "        select MAC, SessionStartTime, date_format(SessionStartTime, 'yyyy-MM-dd') as session_start_date, AppName\n",
    "        from user_events\n",
    "        --where Event = 'StartVOD' or Event = 'StartChannel'\n",
    "        --group by MAC, SessionStartTime, Event --make each day distinct\n",
    "    ) t\n",
    "    group by MAC, AppName, session_start_date\n",
    "    order by MAC, session_start_date\n",
    "\"\"\")\n",
    "\n",
    "df_recency.show()"
   ]
  },
  {
   "cell_type": "code",
   "execution_count": 21,
   "metadata": {},
   "outputs": [],
   "source": [
    "df_recency.createOrReplaceTempView(\"user_recency\")"
   ]
  },
  {
   "cell_type": "markdown",
   "metadata": {},
   "source": [
    "- Để lấy độ giãn ngày thường xuyên, nghĩa là cứ thường xuyên bao lâu user mới coi phim, ta dùng median. Theo ChatGPT: *\"The median is often used as a robust measure of central tendency, particularly when the data contains outliers or extreme values that could skew the mean. **It's also commonly used to describe the \"typical\" value of a dataset**\"*"
   ]
  },
  {
   "cell_type": "code",
   "execution_count": 22,
   "metadata": {},
   "outputs": [
    {
     "name": "stdout",
     "output_type": "stream",
     "text": [
      "+------------+---------------+----------------------+\n",
      "|         MAC|median_day_diff|typical_day_diff_label|\n",
      "+------------+---------------+----------------------+\n",
      "|B046FCAF1E7E|            216|         third_quarter|\n",
      "|B046FCB2C70F|             24|                 month|\n",
      "|B046FCB79EFD|             24|                 month|\n",
      "|B046FCA86246|             23|                 month|\n",
      "|B046FCB16317|             20|                 month|\n",
      "|B046FCB8104B|             20|                 month|\n",
      "|B046FCA6B1C2|             19|                 month|\n",
      "|B046FCB4EF62|             19|                 month|\n",
      "|B046FCB79E0B|             19|                 month|\n",
      "|B046FCB53D5F|             17|                 month|\n",
      "|B046FCB5E995|             17|                 month|\n",
      "|B046FCB73448|             15|                 month|\n",
      "|B046FCAA2175|             14|            half_month|\n",
      "|B046FCB424AA|             14|            half_month|\n",
      "|B046FCB5881B|             13|            half_month|\n",
      "|B046FCB7124F|             13|            half_month|\n",
      "|B046FCB74D49|             13|            half_month|\n",
      "|B046FCAED1D5|             12|            half_month|\n",
      "|B046FCB49B94|             12|            half_month|\n",
      "|B046FCADD818|             11|            half_month|\n",
      "+------------+---------------+----------------------+\n",
      "only showing top 20 rows\n",
      "\n"
     ]
    }
   ],
   "source": [
    "df_day_diff_by_user = spark.sql(\"\"\"\n",
    "    select MAC, median_day_diff,\n",
    "        case \n",
    "            when median_day_diff <= 7 then 'week' \n",
    "            when median_day_diff <= 14 then 'half_month'\n",
    "            when median_day_diff <= 30 then 'month'\n",
    "            when median_day_diff <= 30 * 3 then 'quarter'\n",
    "            when median_day_diff <= 30 * 6 then 'half_year'\n",
    "            when median_day_diff <= 30 * 9 then 'third_quarter'\n",
    "            when median_day_diff <= 365 then 'one_year'\n",
    "            else 'long_ago'\n",
    "        end as typical_day_diff_label\n",
    "    from (\n",
    "        select MAC, percentile_approx(day_diff, 0.5) AS median_day_diff\n",
    "        from user_recency\n",
    "        where day_diff is not null\n",
    "        group by MAC\n",
    "    ) t\n",
    "    order by median_day_diff desc\n",
    "\"\"\")\n",
    "\n",
    "df_day_diff_by_user.show()"
   ]
  },
  {
   "cell_type": "code",
   "execution_count": 23,
   "metadata": {},
   "outputs": [
    {
     "name": "stdout",
     "output_type": "stream",
     "text": [
      "+----------------------+-----+\n",
      "|typical_day_diff_label|count|\n",
      "+----------------------+-----+\n",
      "|            half_month|   27|\n",
      "|                 month|   11|\n",
      "|                  week| 1498|\n",
      "|         third_quarter|    1|\n",
      "+----------------------+-----+\n",
      "\n"
     ]
    }
   ],
   "source": [
    "df_day_diff_by_user.groupBy(\"typical_day_diff_label\") \\\n",
    "    .count() \\\n",
    "    .show()"
   ]
  },
  {
   "cell_type": "markdown",
   "metadata": {},
   "source": [
    "=> Tần suất thấp nhất user sdụng lại app sau 1 khoảng thời gian là khoảng 6-9 tháng (có 1 user), kế đến là khoảng từ 3-6 tháng (11 user). Những user rơi vào 2 category này có xác suất rời dịch vụ cao hơn những người còn lại do ko thường xuyên sdụng app \n"
   ]
  },
  {
   "cell_type": "code",
   "execution_count": 25,
   "metadata": {},
   "outputs": [
    {
     "name": "stdout",
     "output_type": "stream",
     "text": [
      "+------------+\n",
      "|         MAC|\n",
      "+------------+\n",
      "|B046FCAF1E7E|\n",
      "|B046FCB2C70F|\n",
      "|B046FCB79EFD|\n",
      "|B046FCA86246|\n",
      "|B046FCB16317|\n",
      "|B046FCB8104B|\n",
      "|B046FCA6B1C2|\n",
      "|B046FCB4EF62|\n",
      "|B046FCB79E0B|\n",
      "|B046FCB53D5F|\n",
      "|B046FCB5E995|\n",
      "|B046FCB73448|\n",
      "+------------+\n",
      "\n"
     ]
    }
   ],
   "source": [
    "df_infrequent_usage = df_day_diff_by_user.where(\"typical_day_diff_label = 'third_quarter' or typical_day_diff_label = 'month'\") \\\n",
    "    .select(\"MAC\", \"median_day_diff\") \n",
    "    \n",
    "df_infrequent_usage.show()"
   ]
  },
  {
   "cell_type": "code",
   "execution_count": 26,
   "metadata": {},
   "outputs": [],
   "source": [
    "df_infrequent_usage.coalesce(1).write.csv(\"churn_user/user_infrequent_usage.csv\", header=True)"
   ]
  },
  {
   "cell_type": "markdown",
   "metadata": {},
   "source": [
    "#### **Tính từ ngày mới nhất trong dữ liệu, đã bao nhiêu ngày user chưa sdụng app**"
   ]
  },
  {
   "cell_type": "code",
   "execution_count": 75,
   "metadata": {},
   "outputs": [
    {
     "name": "stdout",
     "output_type": "stream",
     "text": [
      "+------------+--------------------+-------+-----+---------------+---------+---------------+--------------------+\n",
      "|         MAC|     SessionMainMenu|AppName|LogID|          Event|   ItemID|RealTimePlaying|    SessionStartTime|\n",
      "+------------+--------------------+-------+-----+---------------+---------+---------------+--------------------+\n",
      "|B046FCB2DEF0|B046FCB2DEF0:2016...|   IPTV|   42|    StopChannel|      181|         55.437|2016-02-23T19:23:...|\n",
      "|B046FCB2DEF0|B046FCB2DEF0:2016...|   IPTV|   41|   StartChannel|        3|            0.0|2016-02-23T19:23:...|\n",
      "|B046FCB2DEF0|B046FCB2DEF0:2016...|   IPTV|  451|ExitChannelList|       11|         50.738|2016-02-23T08:47:...|\n",
      "|B046FCB2DEF0|B046FCB2DEF0:2016...|   IPTV|   42|    StopChannel|      526|          1.258|2016-02-23T08:47:...|\n",
      "|B046FCB2DEF0|B046FCB2DEF0:2016...|   IPTV|   41|   StartChannel|      184|            0.0|2016-02-23T08:47:...|\n",
      "|B046FCB2DEF0|B046FCB2DEF0:2016...|   IPTV|   41|   StartChannel|      175|            0.0|2016-02-23T08:47:...|\n",
      "|B046FCB2DEF0|B046FCB2DEF0:2016...|   IPTV|   42|    StopChannel|      176|          0.757|2016-02-23T08:47:...|\n",
      "|B046FCB2DEF0|B046FCB2DEF0:2016...|   IPTV|   41|   StartChannel|        1|            0.0|2016-02-23T19:23:...|\n",
      "|B046FCB2DEF0|B046FCB2DEF0:2016...|   IPTV|   41|   StartChannel|        2|            0.0|2016-02-23T19:23:...|\n",
      "|B046FCB2DEF0|B046FCB2DEF0:2016...|   IPTV|   40|      EnterIPTV|     NULL|            0.0|2016-02-23T18:07:...|\n",
      "|B046FCB2DEF0|B046FCB2DEF0:2016...|   IPTV|   42|    StopChannel|       51|          3.816|2016-02-23T19:23:...|\n",
      "|B046FCB2DEF0|B046FCB2DEF0:2016...|   IPTV|   41|   StartChannel|        2|            0.0|2016-02-24T19:18:...|\n",
      "|B046FCB2DEF0|B046FCB2DEF0:2016...|    VOD|  512| EnterDetailVOD|100050403|            0.0|2016-02-24T18:01:...|\n",
      "|B046FCB2DEF0|B046FCB2DEF0:2016...|   IPTV|   41|   StartChannel|        5|            0.0|2016-02-24T19:18:...|\n",
      "|B046FCB2DEF0|B046FCB2DEF0:2016...|   IPTV|   41|   StartChannel|       55|            0.0|2016-02-24T19:18:...|\n",
      "|B046FCB2DEF0|B046FCB2DEF0:2016...|   IPTV|   41|   StartChannel|       21|            0.0|2016-02-24T19:18:...|\n",
      "|B046FCB2DEF0|B046FCB2DEF0:2016...|   IPTV|   41|   StartChannel|      184|            0.0|2016-02-24T19:18:...|\n",
      "|B046FCB2DEF0|B046FCB2DEF0:2016...|   IPTV|   41|   StartChannel|       27|            0.0|2016-02-24T19:18:...|\n",
      "|B046FCB2DEF0|B046FCB2DEF0:2016...|   IPTV|   41|   StartChannel|       32|            0.0|2016-02-24T19:18:...|\n",
      "|B046FCB2DEF0|B046FCB2DEF0:2016...|    VOD|   51|       StartVOD|100050403|            0.0|2016-02-24T18:01:...|\n",
      "+------------+--------------------+-------+-----+---------------+---------+---------------+--------------------+\n",
      "only showing top 20 rows\n",
      "\n"
     ]
    }
   ],
   "source": [
    "# Quan sát bảng user_events\n",
    "spark.sql(\"select * from user_events\").show()"
   ]
  },
  {
   "cell_type": "code",
   "execution_count": 93,
   "metadata": {},
   "outputs": [
    {
     "name": "stdout",
     "output_type": "stream",
     "text": [
      "+------------+---------+---------------+\n",
      "|         MAC|idle_days|idle_days_label|\n",
      "+------------+---------+---------------+\n",
      "|B046FCAC7D75|      368|       long_ago|\n",
      "|B046FCA97F7E|      366|       long_ago|\n",
      "|B046FCB2927A|      366|       long_ago|\n",
      "|B046FCB30992|      366|       long_ago|\n",
      "|B046FCB36175|      366|       long_ago|\n",
      "|B046FCB52912|      366|       long_ago|\n",
      "|B046FCB7A227|      366|       long_ago|\n",
      "|B046FCAD9B70|      365|       one_year|\n",
      "|B046FCAE2B23|      365|       one_year|\n",
      "|B046FCACC5D9|      365|       one_year|\n",
      "|B046FCB1B553|      365|       one_year|\n",
      "|B046FCAA15D7|      365|       one_year|\n",
      "|B046FCB1BB23|      365|       one_year|\n",
      "|B046FCAB09D8|      365|       one_year|\n",
      "|B046FCB233C4|      365|       one_year|\n",
      "|B046FCB2DD4E|      365|       one_year|\n",
      "|B046FCAA1A43|      365|       one_year|\n",
      "|B046FCB7A479|      365|       one_year|\n",
      "|B046FCA980B7|      365|       one_year|\n",
      "|B046FCAD869B|      365|       one_year|\n",
      "+------------+---------+---------------+\n",
      "only showing top 20 rows\n",
      "\n"
     ]
    }
   ],
   "source": [
    "df_idle_day = spark.sql(\"\"\"\n",
    "    select *, case \n",
    "        when idle_days <= 7 then 'week' \n",
    "        when idle_days <= 14 then 'half_month'\n",
    "        when idle_days <= 30 then 'month'\n",
    "        when idle_days <= 30 * 3 then 'quarter'\n",
    "        when idle_days <= 30 * 6 then 'half_year'\n",
    "        when idle_days <= 30 * 9 then 'third_quarter'\n",
    "        when idle_days <= 365 then 'one_year'\n",
    "        else 'long_ago'\n",
    "    end as idle_days_label\n",
    "    from (\n",
    "        select MAC, date_diff(max_date, session_start_date) as idle_days\n",
    "        from (\n",
    "            select MAC, date_format(SessionStartTime, 'yyyy-MM-dd') as session_start_date,\n",
    "                row_number() over (partition by MAC order by SessionStartTime desc) as seq,\n",
    "                date_format(max(SessionStartTime) over(), 'yyyy-MM-dd') as max_date\n",
    "            from user_events\n",
    "        ) t\n",
    "        where seq = 1\n",
    "        order by 2 desc\n",
    "    )\n",
    "\"\"\")\n",
    "\n",
    "df_idle_day.show()"
   ]
  },
  {
   "cell_type": "code",
   "execution_count": 95,
   "metadata": {},
   "outputs": [
    {
     "data": {
      "text/plain": [
       "1692"
      ]
     },
     "execution_count": 95,
     "metadata": {},
     "output_type": "execute_result"
    }
   ],
   "source": [
    "df_long_idle_day = df_idle_day.where(\"idle_days_label in ('long_ago', 'one_year', 'third_quarter', 'half_year')\")\n",
    "df_long_idle_day.count()"
   ]
  },
  {
   "cell_type": "code",
   "execution_count": 96,
   "metadata": {},
   "outputs": [],
   "source": [
    "df_long_idle_day.coalesce(1).write.csv(\"churn_user/long_idle_days.csv\", header=True)"
   ]
  },
  {
   "cell_type": "markdown",
   "metadata": {},
   "source": [
    "#### Free temp views\n"
   ]
  },
  {
   "cell_type": "code",
   "execution_count": null,
   "metadata": {},
   "outputs": [],
   "source": [
    "spark.catalog.dropTempView(\"active_session_by_user\")"
   ]
  },
  {
   "cell_type": "code",
   "execution_count": null,
   "metadata": {},
   "outputs": [],
   "source": [
    "spark.catalog.dropTempView(\"user_label\")"
   ]
  },
  {
   "cell_type": "code",
   "execution_count": 64,
   "metadata": {},
   "outputs": [
    {
     "data": {
      "text/plain": [
       "True"
      ]
     },
     "execution_count": 64,
     "metadata": {},
     "output_type": "execute_result"
    }
   ],
   "source": [
    "# LOCKED\n",
    "spark.catalog.dropTempView(\"user_events\")"
   ]
  },
  {
   "cell_type": "markdown",
   "metadata": {},
   "source": [
    "# 3. Tỷ lệ khách hàng rời bỏ dịch vụ"
   ]
  },
  {
   "cell_type": "code",
   "execution_count": 3,
   "metadata": {},
   "outputs": [],
   "source": [
    "df_long_idle_days = spark.read.csv(\"churn_user/long_idle_days.csv\", header=True)\n",
    "df_low_active_user = spark.read.csv(\"churn_user/low_active_user.csv\", header=True)\n",
    "df_user_infrequent_usage = spark.read.csv(\"churn_user/user_infrequent_usage.csv\", header=True)"
   ]
  },
  {
   "cell_type": "code",
   "execution_count": 7,
   "metadata": {},
   "outputs": [
    {
     "name": "stdout",
     "output_type": "stream",
     "text": [
      "df_long_idle_days count: 1692\n",
      "df_low_active_user count: 320\n",
      "df_user_infrequent_usage count: 12\n"
     ]
    }
   ],
   "source": [
    "print('df_long_idle_days count:', df_long_idle_days.count())\n",
    "print('df_low_active_user count:', df_low_active_user.count())\n",
    "print('df_user_infrequent_usage count:', df_user_infrequent_usage.count())"
   ]
  },
  {
   "cell_type": "markdown",
   "metadata": {},
   "source": [
    "- Phân user vào 1 t trong 3 nhóm rời bỏ: HIGH (khả năng cao rời bỏ), MODERATE (khả năng rời bỏ mức vừa) & LOW (khả năng rời bỏ mức thấp) dựa vào số giá trị null của 3 cột 'idle_days_label', 'avg_active_session_per_month', 'active_session_label'. Nếu join cả 3 dataframe & một user nào đó đều có gtrị khác null ở cả 3 field này chứng tỏ user này có khả năng cao rời bỏ (HIGH), tương tự cho 2 gtrị khá null (MODERATE) & 1 gtrị khác null (LOW)"
   ]
  },
  {
   "cell_type": "code",
   "execution_count": 15,
   "metadata": {},
   "outputs": [
    {
     "name": "stdout",
     "output_type": "stream",
     "text": [
      "+------------+---------------+----------------------------+--------------------+----------+-----------------+\n",
      "|         MAC|idle_days_label|avg_active_session_per_month|active_session_label|churn_rank|churn_possibility|\n",
      "+------------+---------------+----------------------------+--------------------+----------+-----------------+\n",
      "|B046FCA6B12C|       one_year|                        50.0|                 low|         3|             HIGH|\n",
      "|B046FCA86AE2|       one_year|                        93.0|                 low|         3|             HIGH|\n",
      "|B046FCA7BAE6|      half_year|                        35.0|                 low|         3|             HIGH|\n",
      "|B046FCA86066|       one_year|                        51.0|                 low|         3|             HIGH|\n",
      "|B046FCA86A56|       one_year|                        38.0|                 low|         3|             HIGH|\n",
      "|B046FCA860BC|       one_year|                        51.0|                 low|         3|             HIGH|\n",
      "|B046FCA69EA6|       one_year|                        91.0|                 low|         3|             HIGH|\n",
      "|B046FCA862C8|       one_year|                        64.0|                 low|         3|             HIGH|\n",
      "|B046FCA7C34C|       one_year|                        77.0|                 low|         3|             HIGH|\n",
      "|B046FCA862DF|       one_year|                        38.0|                 low|         3|             HIGH|\n",
      "|B046FCA7C823|       one_year|                        35.5|                 low|         3|             HIGH|\n",
      "|B046FCA86474|       one_year|                        65.0|                 low|         3|             HIGH|\n",
      "|B046FCA85F41|       one_year|                        44.0|                 low|         3|             HIGH|\n",
      "|B046FCA86530|       one_year|                        85.0|                 low|         3|             HIGH|\n",
      "|B046FCA85F8F|       one_year|                        74.0|                 low|         3|             HIGH|\n",
      "|B046FCA865A8|       one_year|                        60.0|                 low|         3|             HIGH|\n",
      "|B046FCA7BD3A|       one_year|                        40.0|                 low|         3|             HIGH|\n",
      "|B046FCA86716|       one_year|                        55.0|                 low|         3|             HIGH|\n",
      "|B046FCA7CA69|       one_year|                        37.0|                 low|         3|             HIGH|\n",
      "|B046FCA8697A|       one_year|                        55.0|                 low|         3|             HIGH|\n",
      "+------------+---------------+----------------------------+--------------------+----------+-----------------+\n",
      "only showing top 20 rows\n",
      "\n"
     ]
    }
   ],
   "source": [
    "from pyspark.sql.functions import *\n",
    "\n",
    "def count_non_null_values(idle_days_label, avg_active_session_per_month, active_session_label):\n",
    "    list_values = [idle_days_label, avg_active_session_per_month, active_session_label]\n",
    "    list_nulls = [v for v in list_values if v is not None]\n",
    "    \n",
    "    return len(list_nulls)\n",
    "\n",
    "\n",
    "udf_count_non_null_values = udf(count_non_null_values, IntegerType())\n",
    "\n",
    "df_churn_user = df_long_idle_days.join(df_low_active_user, ['MAC'], 'outer') \\\n",
    "    .join(df_user_infrequent_usage, ['MAC'], 'outer') \\\n",
    "    .select('MAC', 'idle_days_label', 'avg_active_session_per_month', 'active_session_label') \\\n",
    "    .withColumn('churn_rank', udf_count_non_null_values(col('idle_days_label'), col('avg_active_session_per_month'), col('active_session_label'))) \\\n",
    "    .orderBy(col('churn_rank').desc()) \\\n",
    "    .withColumn('churn_possibility', \n",
    "        when(col('churn_rank') == 3, 'HIGH')\n",
    "        .when(col('churn_rank') == 2, 'MODERATE')\n",
    "        .otherwise('LOW')\n",
    "    )\n",
    "\n",
    "df_churn_user.show()"
   ]
  },
  {
   "cell_type": "code",
   "execution_count": 20,
   "metadata": {},
   "outputs": [
    {
     "data": {
      "text/plain": [
       "0"
      ]
     },
     "execution_count": 20,
     "metadata": {},
     "output_type": "execute_result"
    }
   ],
   "source": [
    "df_churn_user.where('idle_days_label is null').count()"
   ]
  },
  {
   "cell_type": "code",
   "execution_count": 17,
   "metadata": {},
   "outputs": [
    {
     "name": "stdout",
     "output_type": "stream",
     "text": [
      "+-----------------+-----+\n",
      "|churn_possibility|count|\n",
      "+-----------------+-----+\n",
      "|             HIGH|  320|\n",
      "|              LOW| 1372|\n",
      "+-----------------+-----+\n",
      "\n"
     ]
    }
   ],
   "source": [
    "# thống kê \n",
    "df_churn_user.groupBy('churn_possibility').count().show()"
   ]
  },
  {
   "cell_type": "markdown",
   "metadata": {},
   "source": [
    "=> chỉ có nhóm HIGH & LOW. Lọc ra nhóm HIGH để lấy ra những người khả năng cao rời bỏ dịch vụ"
   ]
  },
  {
   "cell_type": "code",
   "execution_count": null,
   "metadata": {},
   "outputs": [],
   "source": [
    "spark.stop()"
   ]
  }
 ],
 "metadata": {
  "kernelspec": {
   "display_name": "Python 3",
   "language": "python",
   "name": "python3"
  },
  "language_info": {
   "codemirror_mode": {
    "name": "ipython",
    "version": 3
   },
   "file_extension": ".py",
   "mimetype": "text/x-python",
   "name": "python",
   "nbconvert_exporter": "python",
   "pygments_lexer": "ipython3",
   "version": "3.10.11"
  }
 },
 "nbformat": 4,
 "nbformat_minor": 2
}
