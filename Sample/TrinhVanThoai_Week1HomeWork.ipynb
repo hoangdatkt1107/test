{
 "cells": [
  {
   "cell_type": "markdown",
   "id": "04a3fffb",
   "metadata": {},
   "source": [
    "## Install Pyspark"
   ]
  },
  {
   "cell_type": "code",
   "execution_count": 1,
   "id": "ded0d23c",
   "metadata": {},
   "outputs": [
    {
     "name": "stdout",
     "output_type": "stream",
     "text": [
      "Requirement already satisfied: pyspark in /usr/local/lib/python3.10/dist-packages (3.5.0)\n",
      "Requirement already satisfied: py4j==0.10.9.7 in /usr/local/lib/python3.10/dist-packages (from pyspark) (0.10.9.7)\n",
      "\u001b[33mWARNING: Running pip as the 'root' user can result in broken permissions and conflicting behaviour with the system package manager. It is recommended to use a virtual environment instead: https://pip.pypa.io/warnings/venv\u001b[0m\u001b[33m\n",
      "\u001b[0mRequirement already satisfied: findspark in /usr/local/lib/python3.10/dist-packages (2.0.1)\n",
      "\u001b[33mWARNING: Running pip as the 'root' user can result in broken permissions and conflicting behaviour with the system package manager. It is recommended to use a virtual environment instead: https://pip.pypa.io/warnings/venv\u001b[0m\u001b[33m\n",
      "\u001b[0m"
     ]
    }
   ],
   "source": [
    "!pip install pyspark\n",
    "!pip install findspark"
   ]
  },
  {
   "cell_type": "markdown",
   "id": "7949a885",
   "metadata": {},
   "source": [
    "## Start Spark Session"
   ]
  },
  {
   "cell_type": "code",
   "execution_count": 2,
   "id": "8b588367-c5fd-4b54-8ee9-db614258b706",
   "metadata": {
    "notebookRunGroups": {
     "groupValue": "2"
    }
   },
   "outputs": [],
   "source": [
    "from pyspark import SparkContext, SparkConf\n",
    "from pyspark.sql import SparkSession"
   ]
  },
  {
   "cell_type": "code",
   "execution_count": 3,
   "id": "bafe65dc",
   "metadata": {
    "scrolled": true
   },
   "outputs": [
    {
     "name": "stderr",
     "output_type": "stream",
     "text": [
      "Setting default log level to \"WARN\".\n",
      "To adjust logging level use sc.setLogLevel(newLevel). For SparkR, use setLogLevel(newLevel).\n",
      "23/10/18 20:06:01 WARN NativeCodeLoader: Unable to load native-hadoop library for your platform... using builtin-java classes where applicable\n",
      "23/10/18 20:06:02 WARN Utils: Service 'SparkUI' could not bind on port 4040. Attempting port 4041.\n",
      "23/10/18 20:06:02 WARN Utils: Service 'SparkUI' could not bind on port 4041. Attempting port 4042.\n"
     ]
    }
   ],
   "source": [
    "sc = SparkContext()\n",
    "spark = SparkSession.builder.appName(\"LogAnalysis\").getOrCreate()"
   ]
  },
  {
   "cell_type": "markdown",
   "id": "c0fe06af",
   "metadata": {},
   "source": [
    "## Transform Data and Load to CSV"
   ]
  },
  {
   "cell_type": "code",
   "execution_count": 4,
   "id": "8e4e64c2",
   "metadata": {},
   "outputs": [],
   "source": [
    "import ast\n",
    "from pyspark.sql.functions import *\n",
    "from pyspark.sql.types import *\n",
    "\n",
    "#Define extracted field list\n",
    "field_list = {\n",
    "    \"Mac\": StringType(),\n",
    "    \"SessionMainMenu\": StringType(),\n",
    "    \"AppName\": StringType(),\n",
    "    \"LogId\": StringType(),\n",
    "    \"Event\": StringType(),\n",
    "    \"ItemId\": StringType(),\n",
    "    \"RealTimePlaying\": StringType()\n",
    "}\n",
    "\n",
    "def extract_field(line, field_name):\n",
    "    try:\n",
    "        line_obj=ast.literal_eval(line)\n",
    "        return line_obj.get(field_name, None)\n",
    "    except (SyntaxError, ValueError):\n",
    "        return None\n",
    "\n",
    "udf_list = {}\n",
    "\n",
    "for field in field_list:\n",
    "    udf_list[field] = udf(lambda line, f=field: extract_field(line, f), field_list[field])\n",
    "    \n",
    "    \n",
    "def parse_data(path):\n",
    "    data = spark.read.text(path)\n",
    "    for field in field_list:\n",
    "        data = data.withColumn(field, udf_list[field](data[\"value\"]))\n",
    "    data = data.drop(\"value\")\n",
    "    data = data.withColumn(\"SessionMainMenu\", regexp_replace(col(\"SessionMainMenu\"), concat(col(\"Mac\"), lit(\":\")), \"\"))\n",
    "    return data"
   ]
  },
  {
   "cell_type": "code",
   "execution_count": 5,
   "id": "ebdd6a8e",
   "metadata": {},
   "outputs": [
    {
     "name": "stdout",
     "output_type": "stream",
     "text": [
      "['logt22.txt', 'logt23.txt', 'logt25.txt', 'logt24.txt', 'logt32.txt', 'logt31.txt', 'logt21.txt']\n"
     ]
    }
   ],
   "source": [
    "import os\n",
    "folder_path = \"./\"  # Replace with the actual folder path\n",
    "log_files = [f for f in os.listdir(folder_path) if f.startswith(\"log\")]\n",
    "print(log_files)"
   ]
  },
  {
   "cell_type": "code",
   "execution_count": 6,
   "id": "fc339fcc",
   "metadata": {
    "notebookRunGroups": {
     "groupValue": "2"
    }
   },
   "outputs": [],
   "source": [
    "schema = StructType([StructField(field, field_type, True) for field, field_type in field_list.items()])\n",
    "total_df = spark.createDataFrame([], schema=schema)\n",
    "for log_file in log_files:\n",
    "    file_path = os.path.join(folder_path, log_file)\n",
    "    df = parse_data(file_path)\n",
    "    total_df = total_df.union(df)"
   ]
  },
  {
   "cell_type": "code",
   "execution_count": 7,
   "id": "3ce5cc4c",
   "metadata": {},
   "outputs": [
    {
     "name": "stderr",
     "output_type": "stream",
     "text": [
      "                                                                                \r"
     ]
    },
    {
     "name": "stdout",
     "output_type": "stream",
     "text": [
      "+------------+--------------------+-------+-----+--------------+---------+---------------+\n",
      "|         Mac|     SessionMainMenu|AppName|LogId|         Event|   ItemId|RealTimePlaying|\n",
      "+------------+--------------------+-------+-----+--------------+---------+---------------+\n",
      "|B046FCA6ABCA|2016:02:05:12:59:...|   IPTV|   41|  StartChannel|       46|           NULL|\n",
      "|B046FCA6ABCA|2016:02:05:14:39:...|   IPTV|   42|   StopChannel|       46|         32.217|\n",
      "|B046FCA6ABCA|2016:02:05:14:39:...|   IPTV|   41|  StartChannel|       46|           NULL|\n",
      "|B046FCA6ABCA|2016:02:11:21:03:...|   IPTV|   41|  StartChannel|       46|           NULL|\n",
      "|B046FCA6ABCA|2016:02:11:21:03:...|    VOD|  512|EnterDetailVOD|100004375|           NULL|\n",
      "|B046FCA6ABCA|2016:02:04:17:14:...|   IPTV|   41|  StartChannel|       46|           NULL|\n",
      "|B046FCA6ABCA|2016:02:05:14:39:...|   IPTV|   40|     EnterIPTV|     NULL|           NULL|\n",
      "|B046FCA6ABCA|2016:02:05:12:59:...|   IPTV|   42|   StopChannel|       46|         13.778|\n",
      "|B046FCA6ABCA|2016:02:05:12:59:...|    VOD|   18|  ChangeModule|     NULL|           NULL|\n",
      "|B046FCA6ABCA|2016:02:11:21:03:...|    VOD|  512|EnterDetailVOD|100043863|           NULL|\n",
      "+------------+--------------------+-------+-----+--------------+---------+---------------+\n",
      "only showing top 10 rows\n",
      "\n"
     ]
    }
   ],
   "source": [
    "total_df.show(10)"
   ]
  },
  {
   "cell_type": "code",
   "execution_count": 9,
   "id": "fa455c1d",
   "metadata": {},
   "outputs": [
    {
     "name": "stderr",
     "output_type": "stream",
     "text": [
      "                                                                                \r"
     ]
    }
   ],
   "source": [
    "total_df.write.option(\"sep\", \"\\t\").csv('transformed_logs')"
   ]
  },
  {
   "cell_type": "markdown",
   "id": "987f01da",
   "metadata": {},
   "source": [
    "## Analytic the Data"
   ]
  },
  {
   "cell_type": "code",
   "execution_count": 10,
   "id": "f32809db",
   "metadata": {},
   "outputs": [],
   "source": [
    "# Reload the data\n",
    "timestamp_format = \"yyyy:MM:dd:HH:mm:ss:SSS\"\n",
    "\n",
    "logs_data_schema = StructType([\n",
    "    StructField(\"Mac\", StringType(), True),\n",
    "    StructField(\"SessionMainMenu\", StringType(), True),\n",
    "    StructField(\"AppName\", StringType(), True),\n",
    "    StructField(\"LogId\", IntegerType(), True),\n",
    "    StructField(\"Event\", StringType(), True),\n",
    "    StructField(\"ItemId\", LongType(), True),\n",
    "    StructField(\"RealTimePlaying\", DoubleType(), True)\n",
    "])\n",
    "\n",
    "\n",
    "logs_data = spark.read.option(\"sep\", \"\\t\").schema(logs_data_schema).csv('transformed_logs')\n",
    "logs_data = logs_data.withColumn(\"SessionMainMenu\", to_timestamp(logs_data[\"SessionMainMenu\"], timestamp_format).cast(TimestampType()))\n",
    "logs_data = logs_data.fillna(0, subset=[\"RealTimePlaying\"])\n"
   ]
  },
  {
   "cell_type": "code",
   "execution_count": 11,
   "id": "a0069210",
   "metadata": {},
   "outputs": [
    {
     "name": "stdout",
     "output_type": "stream",
     "text": [
      "root\n",
      " |-- Mac: string (nullable = true)\n",
      " |-- SessionMainMenu: timestamp (nullable = true)\n",
      " |-- AppName: string (nullable = true)\n",
      " |-- LogId: integer (nullable = true)\n",
      " |-- Event: string (nullable = true)\n",
      " |-- ItemId: long (nullable = true)\n",
      " |-- RealTimePlaying: double (nullable = false)\n",
      "\n"
     ]
    }
   ],
   "source": [
    "logs_data.printSchema()"
   ]
  },
  {
   "cell_type": "code",
   "execution_count": 12,
   "id": "ab114a99",
   "metadata": {},
   "outputs": [
    {
     "name": "stdout",
     "output_type": "stream",
     "text": [
      "+------------+--------------------+-------+-----+---------------+------+---------------+\n",
      "|         Mac|     SessionMainMenu|AppName|LogId|          Event|ItemId|RealTimePlaying|\n",
      "+------------+--------------------+-------+-----+---------------+------+---------------+\n",
      "|B046FCB3C234|2016-02-21 21:24:...|   IPTV|   41|   StartChannel|     3|            0.0|\n",
      "|B046FCB3C234|2016-02-22 18:59:...|   IPTV|   41|   StartChannel|   147|            0.0|\n",
      "|B046FCB3C234|2016-02-22 18:59:...|   IPTV|   42|    StopChannel|     5|         13.408|\n",
      "|B046FCB3C234|2016-02-22 18:59:...|   IPTV|   45|ShowChannelList|    16|            0.0|\n",
      "|B046FCB3C234|2016-02-22 18:59:...|   IPTV|   45|ShowChannelList|    46|            0.0|\n",
      "|B046FCB3C234|2016-02-22 18:59:...|   IPTV|   45|ShowChannelList|     3|            0.0|\n",
      "|B046FCB3C234|2016-02-23 18:54:...|   IPTV|   41|   StartChannel|     5|            0.0|\n",
      "|B046FCB3C234|2016-02-23 18:54:...|   IPTV|   41|   StartChannel|     3|            0.0|\n",
      "|B046FCB3C234|2016-02-22 18:59:...|   IPTV|   41|   StartChannel|     3|            0.0|\n",
      "|B046FCB3C234|2016-02-22 18:59:...|   IPTV|   45|ShowChannelList|     3|            0.0|\n",
      "+------------+--------------------+-------+-----+---------------+------+---------------+\n",
      "only showing top 10 rows\n",
      "\n"
     ]
    }
   ],
   "source": [
    "logs_data.show(10)"
   ]
  },
  {
   "cell_type": "code",
   "execution_count": 13,
   "id": "cf306925",
   "metadata": {},
   "outputs": [
    {
     "name": "stderr",
     "output_type": "stream",
     "text": [
      "                                                                                \r"
     ]
    }
   ],
   "source": [
    "# Use the 'distinct' and 'count' functions\n",
    "distinct_count = logs_data.select(col(\"Mac\")).distinct().count()"
   ]
  },
  {
   "cell_type": "code",
   "execution_count": 14,
   "id": "7768e6fc",
   "metadata": {},
   "outputs": [
    {
     "data": {
      "text/plain": [
       "1693"
      ]
     },
     "execution_count": 14,
     "metadata": {},
     "output_type": "execute_result"
    }
   ],
   "source": [
    "distinct_count"
   ]
  },
  {
   "cell_type": "code",
   "execution_count": 15,
   "id": "3c95e24d",
   "metadata": {},
   "outputs": [],
   "source": [
    "user_data = spark.read.option(\"sep\", \"\\t\").option(\"header\", \"true\").csv(\"user_info.txt\")\n",
    "user_data = user_data.withColumn(\"Mac\", udf(lambda x: x.replace(\"FBOX\", \"\"))(user_data[\"MAC\"]))"
   ]
  },
  {
   "cell_type": "markdown",
   "id": "5b10f1a3",
   "metadata": {},
   "source": [
    "### Apps"
   ]
  },
  {
   "cell_type": "markdown",
   "id": "5ec73ddb",
   "metadata": {},
   "source": [
    "#### Distribution of Users using Apps"
   ]
  },
  {
   "cell_type": "code",
   "execution_count": 16,
   "id": "3e454432",
   "metadata": {},
   "outputs": [],
   "source": [
    "user_per_app = logs_data.groupBy(\"AppName\").agg(countDistinct(\"Mac\").alias(\"Number of Users\"))"
   ]
  },
  {
   "cell_type": "code",
   "execution_count": 17,
   "id": "ff6dbafc",
   "metadata": {},
   "outputs": [
    {
     "name": "stderr",
     "output_type": "stream",
     "text": [
      "                                                                                \r"
     ]
    },
    {
     "data": {
      "image/png": "[encoded data removed]",
      "text/plain": [
       "<Figure size 400x400 with 1 Axes>"
      ]
     },
     "metadata": {},
     "output_type": "display_data"
    }
   ],
   "source": [
    "import matplotlib.pyplot as plt\n",
    "\n",
    "user_per_app_pd = user_per_app.toPandas()\n",
    "\n",
    "# Plot a pie chart\n",
    "plt.figure(figsize=(4, 4))\n",
    "plt.pie(user_per_app_pd[\"Number of Users\"], labels=user_per_app_pd[\"AppName\"], autopct='%1.1f%%', startangle=140)\n",
    "plt.title(\"Distribution of Users by AppName\")\n",
    "plt.show()"
   ]
  },
  {
   "cell_type": "markdown",
   "id": "edbd0207",
   "metadata": {},
   "source": [
    "#### Distribution of Time using App"
   ]
  },
  {
   "cell_type": "code",
   "execution_count": 18,
   "id": "f0537f2c",
   "metadata": {},
   "outputs": [
    {
     "name": "stderr",
     "output_type": "stream",
     "text": [
      "                                                                                \r"
     ]
    },
    {
     "data": {
      "image/png": "[encoded data removed]",
      "text/plain": [
       "<Figure size 400x400 with 1 Axes>"
      ]
     },
     "metadata": {},
     "output_type": "display_data"
    }
   ],
   "source": [
    "time_per_app = logs_data.groupBy(\"AppName\").agg(sum(\"RealTimePlaying\").alias(\"Total time used\"))\n",
    "time_per_app_pd = time_per_app.toPandas()\n",
    "\n",
    "# Plot a pie chart\n",
    "plt.figure(figsize=(4, 4))\n",
    "plt.pie(time_per_app_pd[\"Total time used\"], labels=time_per_app_pd[\"AppName\"], autopct='%1.1f%%', startangle=140)\n",
    "plt.title(\"Distribution of Time used by AppName\")\n",
    "plt.show()"
   ]
  },
  {
   "cell_type": "markdown",
   "id": "b4514bf6",
   "metadata": {},
   "source": [
    "## Items"
   ]
  },
  {
   "cell_type": "markdown",
   "id": "f74fce8a",
   "metadata": {},
   "source": [
    "#### Top 10 Item with the most users"
   ]
  },
  {
   "cell_type": "code",
   "execution_count": 19,
   "id": "90caaeb3",
   "metadata": {},
   "outputs": [
    {
     "name": "stderr",
     "output_type": "stream",
     "text": [
      "[Stage 21:=======>                                                (2 + 13) / 15]\r"
     ]
    },
    {
     "name": "stdout",
     "output_type": "stream",
     "text": [
      "+------+---------------+\n",
      "|ItemId|Number of Users|\n",
      "+------+---------------+\n",
      "|  NULL|           1693|\n",
      "|     1|           1440|\n",
      "|     3|           1296|\n",
      "|     2|           1251|\n",
      "|     5|           1142|\n",
      "|    11|           1056|\n",
      "|     7|           1048|\n",
      "|    10|           1045|\n",
      "|    55|           1024|\n",
      "|    16|           1024|\n",
      "+------+---------------+\n",
      "only showing top 10 rows\n",
      "\n"
     ]
    },
    {
     "name": "stderr",
     "output_type": "stream",
     "text": [
      "                                                                                \r"
     ]
    }
   ],
   "source": [
    "user_by_item = logs_data.groupBy(\"ItemId\").agg(countDistinct(\"Mac\").alias(\"Number of Users\"))\n",
    "user_by_item = user_by_item.orderBy(desc(\"Number of Users\"))\n",
    "user_by_item.show(10)"
   ]
  },
  {
   "cell_type": "markdown",
   "id": "7af9ecee",
   "metadata": {},
   "source": [
    "#### Top 10 Item with the most time used"
   ]
  },
  {
   "cell_type": "code",
   "execution_count": 20,
   "id": "9488e589",
   "metadata": {},
   "outputs": [
    {
     "name": "stderr",
     "output_type": "stream",
     "text": [
      "[Stage 27:==============>                                         (4 + 11) / 15]\r"
     ]
    },
    {
     "name": "stdout",
     "output_type": "stream",
     "text": [
      "+------+--------------------+\n",
      "|ItemId|     Total time used|\n",
      "+------+--------------------+\n",
      "|     1| 4.394428232700002E7|\n",
      "|    18| 3.359443279099992E7|\n",
      "|     3|2.8818497228000004E7|\n",
      "|    62| 2.251839402900001E7|\n",
      "|   147|      1.8305528402E7|\n",
      "|    38|1.2242010257000003E7|\n",
      "|    52|      1.0496772567E7|\n",
      "|    55|   9775809.384000001|\n",
      "|     5|   8784024.294999998|\n",
      "|   181|         8358073.304|\n",
      "+------+--------------------+\n",
      "only showing top 10 rows\n",
      "\n"
     ]
    },
    {
     "name": "stderr",
     "output_type": "stream",
     "text": [
      "                                                                                \r"
     ]
    }
   ],
   "source": [
    "time_by_item = logs_data.groupBy(\"ItemId\").agg(sum(\"RealTimePlaying\").alias(\"Total time used\"))\n",
    "time_by_item = time_by_item.orderBy(desc(\"Total time used\"))\n",
    "time_by_item.show(10)"
   ]
  }
 ],
 "metadata": {
  "kernelspec": {
   "display_name": "Python 3",
   "language": "python",
   "name": "python3"
  },
  "language_info": {
   "codemirror_mode": {
    "name": "ipython",
    "version": 3
   },
   "file_extension": ".py",
   "mimetype": "text/x-python",
   "name": "python",
   "nbconvert_exporter": "python",
   "pygments_lexer": "ipython3",
   "version": "3.10.12"
  }
 },
 "nbformat": 4,
 "nbformat_minor": 5
}
