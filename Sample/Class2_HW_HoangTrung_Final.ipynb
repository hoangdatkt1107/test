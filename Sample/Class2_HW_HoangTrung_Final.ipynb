{
 "cells": [
  {
   "cell_type": "markdown",
   "metadata": {},
   "source": [
    "# 1. Load dữ liệu vào DataFrame"
   ]
  },
  {
   "cell_type": "code",
   "execution_count": 152,
   "metadata": {},
   "outputs": [],
   "source": [
    "import findspark\n",
    "\n",
    "findspark.init()"
   ]
  },
  {
   "cell_type": "code",
   "execution_count": 153,
   "metadata": {},
   "outputs": [],
   "source": [
    "import pandas as pd\n",
    "import pyspark\n",
    "import ast\n",
    "import json\n",
    "\n",
    "from pyspark import SparkContext\n",
    "from pyspark.sql import SQLContext\n",
    "from pyspark.sql import SparkSession\n",
    "from pyspark.sql.functions import col, when, sum, udf, to_date, concat, lit, regexp_replace\n",
    "from pyspark.sql.types import StringType, StructType, StructField\n",
    "from pyspark.sql import functions as F\n",
    "\n",
    "import warnings\n",
    "\n",
    "warnings.filterwarnings('ignore')"
   ]
  },
  {
   "cell_type": "code",
   "execution_count": 154,
   "metadata": {},
   "outputs": [],
   "source": [
    "# Tạo Cluster\n",
    "spark = SparkSession.builder \\\n",
    "    .appName(\"LogData\") \\\n",
    "    .config(\"spark.sql.legacy.timeParserPolicy\", \"LEGACY\") \\\n",
    "    .config(\"spark.executor.memory\", \"15g\") \\\n",
    "    .config(\"spark.executor.cores\", \"8\") \\\n",
    "    .config(\"spark.driver.memory\", \"15g\") \\\n",
    "    .config(\"spark.driver.cores\", \"8\") \\\n",
    "    .getOrCreate()"
   ]
  },
  {
   "cell_type": "code",
   "execution_count": 155,
   "metadata": {},
   "outputs": [],
   "source": [
    "sqlContext = SQLContext(spark)"
   ]
  },
  {
   "cell_type": "code",
   "execution_count": 156,
   "metadata": {},
   "outputs": [
    {
     "name": "stdout",
     "output_type": "stream",
     "text": [
      "+--------------------+\n",
      "|               value|\n",
      "+--------------------+\n",
      "|{u'ItemId': u'100...|\n",
      "|{u'Firmware': u'2...|\n",
      "|{u'ItemId': u'100...|\n",
      "|{u'Firmware': u'2...|\n",
      "|{u'ItemId': u'100...|\n",
      "|{u'Firmware': u'2...|\n",
      "|{u'ItemId': u'100...|\n",
      "|{u'ItemId': u'100...|\n",
      "|{u'Firmware': u'2...|\n",
      "|{u'ItemId': u'100...|\n",
      "|{u'Firmware': u'2...|\n",
      "|{u'Firmware': u'2...|\n",
      "|{u'ItemId': u'100...|\n",
      "|{u'ItemId': u'100...|\n",
      "|{u'ItemId': u'158...|\n",
      "|{u'ItemId': u'52'...|\n",
      "|{u'Firmware': u'2...|\n",
      "|{u'ItemId': u'125...|\n",
      "|{u'ItemId': u'100...|\n",
      "|{u'Firmware': u'2...|\n",
      "+--------------------+\n",
      "only showing top 20 rows\n",
      "\n"
     ]
    }
   ],
   "source": [
    "# Đọc 1 File dữ liệu trước\n",
    "data = spark.read.text(\"G:\\\\DE6\\\\Class 2 - Big Data Coding\\\\DataSampleTest\\\\logt21.txt\")\n",
    "\n",
    "data.show()"
   ]
  },
  {
   "cell_type": "code",
   "execution_count": 157,
   "metadata": {},
   "outputs": [
    {
     "data": {
      "text/plain": [
       "pyspark.sql.dataframe.DataFrame"
      ]
     },
     "execution_count": 157,
     "metadata": {},
     "output_type": "execute_result"
    }
   ],
   "source": [
    "type(data)"
   ]
  },
  {
   "cell_type": "code",
   "execution_count": 158,
   "metadata": {},
   "outputs": [
    {
     "name": "stdout",
     "output_type": "stream",
     "text": [
      "+--------------------+\n",
      "|               value|\n",
      "+--------------------+\n",
      "|{u'ItemId': u'100...|\n",
      "|{u'Firmware': u'2...|\n",
      "|{u'ItemId': u'100...|\n",
      "|{u'Firmware': u'2...|\n",
      "|{u'ItemId': u'100...|\n",
      "|{u'Firmware': u'2...|\n",
      "|{u'ItemId': u'100...|\n",
      "|{u'ItemId': u'100...|\n",
      "|{u'Firmware': u'2...|\n",
      "|{u'ItemId': u'100...|\n",
      "|{u'Firmware': u'2...|\n",
      "|{u'Firmware': u'2...|\n",
      "|{u'ItemId': u'100...|\n",
      "|{u'ItemId': u'100...|\n",
      "|{u'ItemId': u'158...|\n",
      "|{u'ItemId': u'52'...|\n",
      "|{u'Firmware': u'2...|\n",
      "|{u'ItemId': u'125...|\n",
      "|{u'ItemId': u'100...|\n",
      "|{u'Firmware': u'2...|\n",
      "+--------------------+\n",
      "only showing top 20 rows\n",
      "\n"
     ]
    }
   ],
   "source": [
    "data.show()"
   ]
  },
  {
   "cell_type": "code",
   "execution_count": 159,
   "metadata": {},
   "outputs": [
    {
     "data": {
      "text/plain": [
       "Column<'value[0]'>"
      ]
     },
     "execution_count": 159,
     "metadata": {},
     "output_type": "execute_result"
    }
   ],
   "source": [
    "data.value[0]"
   ]
  },
  {
   "cell_type": "code",
   "execution_count": 160,
   "metadata": {},
   "outputs": [],
   "source": [
    "# Function để chuyển dữ liệu từ dạng String về thành dạng Dictionary\n",
    "def convert_to_dict(value):\n",
    "    fixed_string = value.replace(\"u'\", \"'\").replace(\"'\", '\"').replace(\"\\\\\", \"\\\\\\\\\")\n",
    "\n",
    "    print(fixed_string)\n",
    "\n",
    "    # return json.loads(fixed_string)\n",
    "    return\n",
    "\n",
    "\n",
    "def parse_data(file_path):\n",
    "    import ast\n",
    "\n",
    "    data = spark.read.text(file_path)\n",
    "\n",
    "    lst_temp = list()\n",
    "\n",
    "    rows = data.collect()\n",
    "\n",
    "    k = 0\n",
    "\n",
    "    rows_final = list()\n",
    "\n",
    "    for i in range(len(rows)):\n",
    "        # Nếu ở dòng chẵn thì gợp dữ liệu với các dòng ngay bên dưới (vì 2 dòng tạo thành dữ liệu của 1 cột)\n",
    "        if i % 2 == 0:\n",
    "            row_1_value = ast.literal_eval(rows[i].value)\n",
    "            # row_2_value = ast.literal_eval(rows[i+1].value)\n",
    "\n",
    "            # merged_dict = {**row_1_value, **row_2_value}\n",
    "\n",
    "            rows_final.append(row_1_value)\n",
    "\n",
    "    df_final = spark.createDataFrame(rows_final)\n",
    "\n",
    "    df_final = df_final.select('MAC', 'SessionMainMenu', 'AppName', 'LogId', 'Event', 'ItemId', 'RealTimePlaying')\n",
    "\n",
    "    # Trả về dữ liệu là list 1 list sau khi gộp hết các Dictionary về\n",
    "    return df_final\n",
    "\n",
    "\n",
    "def create_dataframe(file_lists):\n",
    "    import glob\n",
    "\n",
    "    file_lists = glob.glob('DataSampleTest/log*.txt')\n",
    "\n",
    "    k = 0\n",
    "\n",
    "    for file_path in file_lists:\n",
    "        if k == 0:\n",
    "            df_final = parse_data(file_path)\n",
    "        else:\n",
    "            df_final = df_final.union(parse_data(file_path))\n",
    "\n",
    "        k += 1\n",
    "\n",
    "    return df_final\n",
    "\n",
    "\n",
    "def load_data(folder_path):\n",
    "    import glob\n",
    "\n",
    "    file_lists = glob.glob(f'{folder_path}/log*.txt')\n",
    "\n",
    "    df_final = create_dataframe(file_lists)\n",
    "\n",
    "    return df_final"
   ]
  },
  {
   "cell_type": "code",
   "execution_count": 161,
   "metadata": {},
   "outputs": [
    {
     "name": "stdout",
     "output_type": "stream",
     "text": [
      "+------------+--------------------+-------+-----+---------------+---------+---------------+\n",
      "|         MAC|     SessionMainMenu|AppName|LogId|          Event|   ItemId|RealTimePlaying|\n",
      "+------------+--------------------+-------+-----+---------------+---------+---------------+\n",
      "|B046FCAC0DC1|B046FCAC0DC1:2016...|    VOD|   52|        StopVOD|100052388|          570.3|\n",
      "|B046FCAC0DC1|B046FCAC0DC1:2016...|    VOD|   55|        NextVOD|100052388|           NULL|\n",
      "|B046FCAC0DC1|B046FCAC0DC1:2016...|    VOD|   54|        PlayVOD|100052388|           NULL|\n",
      "|B046FCAC0DC1|B046FCAC0DC1:2016...|    VOD|   55|        NextVOD|100052388|           NULL|\n",
      "|B046FCAC0DC1|B046FCAC0DC1:2016...|   IPTV|   40|      EnterIPTV|     NULL|           NULL|\n",
      "|B046FCAC0DC1|B046FCAC0DC1:2016...|    VOD|   18|   ChangeModule|     NULL|           NULL|\n",
      "|B046FCAC0DC1|B046FCAC0DC1:2016...|    VOD|   51|       StartVOD|100052388|           NULL|\n",
      "|B046FCAC0DC1|B046FCAC0DC1:2016...|   IPTV|   42|    StopChannel|      158|          6.657|\n",
      "|B046FCAC0DC1|B046FCAC0DC1:2016...|   IPTV|   18|   ChangeModule|     NULL|           NULL|\n",
      "|B046FCAC0DC1|B046FCAC0DC1:2016...|    VOD|   52|        StopVOD|100052388|         1158.6|\n",
      "|B046FCAC0DC1|B046FCAC0DC1:2016...|    VOD|   54|        PlayVOD|100052388|           NULL|\n",
      "|B046FCAC0DC1|B046FCAC0DC1:2016...|    VOD|   55|        NextVOD|100052388|           NULL|\n",
      "|B046FCAC0DC1|B046FCAC0DC1:2016...|   IPTV|   40|      EnterIPTV|     NULL|           NULL|\n",
      "|B046FCAC0DC1|B046FCAC0DC1:2016...|    VOD|   50|       EnterVOD|     NULL|           NULL|\n",
      "|B046FCAC0DC1|B046FCAC0DC1:2016...|    VOD|   50|       EnterVOD|     NULL|           NULL|\n",
      "|B046FCAC0DC1|B046FCAC0DC1:2016...|    VOD|   18|   ChangeModule|     NULL|           NULL|\n",
      "|B046FCAC0DC1|B046FCAC0DC1:2016...|   IPTV|   42|    StopChannel|       52|          9.468|\n",
      "|B046FCAC0DC1|B046FCAC0DC1:2016...|   IPTV|   41|   StartChannel|      181|           NULL|\n",
      "|B046FCAC0DC1|B046FCAC0DC1:2016...|   IPTV|   45|ShowChannelList|       52|           NULL|\n",
      "|B046FCAC0DC1|B046FCAC0DC1:2016...|   IPTV|   45|ShowChannelList|       52|           NULL|\n",
      "+------------+--------------------+-------+-----+---------------+---------+---------------+\n",
      "only showing top 20 rows\n",
      "\n"
     ]
    }
   ],
   "source": [
    "# Load dữ liệu vào df_final\n",
    "logs_data = load_data('DataSampleTest')\n",
    "\n",
    "logs_data.show()"
   ]
  },
  {
   "cell_type": "code",
   "execution_count": 162,
   "metadata": {},
   "outputs": [
    {
     "name": "stdout",
     "output_type": "stream",
     "text": [
      "root\n",
      " |-- MAC: string (nullable = true)\n",
      " |-- SessionMainMenu: string (nullable = true)\n",
      " |-- AppName: string (nullable = true)\n",
      " |-- LogId: string (nullable = true)\n",
      " |-- Event: string (nullable = true)\n",
      " |-- ItemId: string (nullable = true)\n",
      " |-- RealTimePlaying: string (nullable = true)\n",
      "\n"
     ]
    }
   ],
   "source": [
    "logs_data.printSchema()"
   ]
  },
  {
   "cell_type": "code",
   "execution_count": 163,
   "metadata": {},
   "outputs": [
    {
     "name": "stdout",
     "output_type": "stream",
     "text": [
      "+------------+--------------------+-------+-----+---------------+---------+---------------+\n",
      "|         MAC|     SessionMainMenu|AppName|LogId|          Event|   ItemId|RealTimePlaying|\n",
      "+------------+--------------------+-------+-----+---------------+---------+---------------+\n",
      "|B046FCAC0DC1|B046FCAC0DC1:2016...|    VOD|   52|        StopVOD|100052388|          570.3|\n",
      "|B046FCAC0DC1|B046FCAC0DC1:2016...|    VOD|   55|        NextVOD|100052388|              0|\n",
      "|B046FCAC0DC1|B046FCAC0DC1:2016...|    VOD|   54|        PlayVOD|100052388|              0|\n",
      "|B046FCAC0DC1|B046FCAC0DC1:2016...|    VOD|   55|        NextVOD|100052388|              0|\n",
      "|B046FCAC0DC1|B046FCAC0DC1:2016...|   IPTV|   40|      EnterIPTV|     NULL|              0|\n",
      "|B046FCAC0DC1|B046FCAC0DC1:2016...|    VOD|   18|   ChangeModule|     NULL|              0|\n",
      "|B046FCAC0DC1|B046FCAC0DC1:2016...|    VOD|   51|       StartVOD|100052388|              0|\n",
      "|B046FCAC0DC1|B046FCAC0DC1:2016...|   IPTV|   42|    StopChannel|      158|          6.657|\n",
      "|B046FCAC0DC1|B046FCAC0DC1:2016...|   IPTV|   18|   ChangeModule|     NULL|              0|\n",
      "|B046FCAC0DC1|B046FCAC0DC1:2016...|    VOD|   52|        StopVOD|100052388|         1158.6|\n",
      "|B046FCAC0DC1|B046FCAC0DC1:2016...|    VOD|   54|        PlayVOD|100052388|              0|\n",
      "|B046FCAC0DC1|B046FCAC0DC1:2016...|    VOD|   55|        NextVOD|100052388|              0|\n",
      "|B046FCAC0DC1|B046FCAC0DC1:2016...|   IPTV|   40|      EnterIPTV|     NULL|              0|\n",
      "|B046FCAC0DC1|B046FCAC0DC1:2016...|    VOD|   50|       EnterVOD|     NULL|              0|\n",
      "|B046FCAC0DC1|B046FCAC0DC1:2016...|    VOD|   50|       EnterVOD|     NULL|              0|\n",
      "|B046FCAC0DC1|B046FCAC0DC1:2016...|    VOD|   18|   ChangeModule|     NULL|              0|\n",
      "|B046FCAC0DC1|B046FCAC0DC1:2016...|   IPTV|   42|    StopChannel|       52|          9.468|\n",
      "|B046FCAC0DC1|B046FCAC0DC1:2016...|   IPTV|   41|   StartChannel|      181|              0|\n",
      "|B046FCAC0DC1|B046FCAC0DC1:2016...|   IPTV|   45|ShowChannelList|       52|              0|\n",
      "|B046FCAC0DC1|B046FCAC0DC1:2016...|   IPTV|   45|ShowChannelList|       52|              0|\n",
      "+------------+--------------------+-------+-----+---------------+---------+---------------+\n",
      "only showing top 20 rows\n",
      "\n"
     ]
    }
   ],
   "source": [
    "logs_data = logs_data.withColumn('RealTimePlaying', when(col('RealTimePlaying').isNull(), 0).otherwise(col('RealTimePlaying')))\n",
    "\n",
    "logs_data.show()"
   ]
  },
  {
   "cell_type": "code",
   "execution_count": 164,
   "metadata": {},
   "outputs": [
    {
     "name": "stdout",
     "output_type": "stream",
     "text": [
      "root\n",
      " |-- MAC: string (nullable = true)\n",
      " |-- SessionMainMenu: string (nullable = true)\n",
      " |-- AppName: string (nullable = true)\n",
      " |-- LogId: string (nullable = true)\n",
      " |-- Event: string (nullable = true)\n",
      " |-- ItemId: string (nullable = true)\n",
      " |-- RealTimePlaying: string (nullable = true)\n",
      "\n"
     ]
    }
   ],
   "source": [
    "logs_data.printSchema()"
   ]
  },
  {
   "cell_type": "code",
   "execution_count": 165,
   "metadata": {},
   "outputs": [
    {
     "name": "stdout",
     "output_type": "stream",
     "text": [
      "root\n",
      " |-- MAC: string (nullable = true)\n",
      " |-- SessionMainMenu: string (nullable = true)\n",
      " |-- AppName: string (nullable = true)\n",
      " |-- LogId: string (nullable = true)\n",
      " |-- Event: string (nullable = true)\n",
      " |-- ItemId: string (nullable = true)\n",
      " |-- RealTimePlaying: float (nullable = true)\n",
      "\n"
     ]
    }
   ],
   "source": [
    "# Chuyển đổi dữ liệu cột RealTimePlaying về dạng Float\n",
    "logs_data = logs_data.withColumn('RealTimePlaying', logs_data['RealTimePlaying'].cast('float'))\n",
    "\n",
    "logs_data.printSchema()"
   ]
  },
  {
   "cell_type": "code",
   "execution_count": 166,
   "metadata": {},
   "outputs": [
    {
     "name": "stdout",
     "output_type": "stream",
     "text": [
      "+------------+--------------------+-------+-----+---------------+---------+---------------+\n",
      "|         MAC|     SessionMainMenu|AppName|LogId|          Event|   ItemId|RealTimePlaying|\n",
      "+------------+--------------------+-------+-----+---------------+---------+---------------+\n",
      "|B046FCAC0DC1|B046FCAC0DC1:2016...|    VOD|   52|        StopVOD|100052388|          570.3|\n",
      "|B046FCAC0DC1|B046FCAC0DC1:2016...|    VOD|   55|        NextVOD|100052388|            0.0|\n",
      "|B046FCAC0DC1|B046FCAC0DC1:2016...|    VOD|   54|        PlayVOD|100052388|            0.0|\n",
      "|B046FCAC0DC1|B046FCAC0DC1:2016...|    VOD|   55|        NextVOD|100052388|            0.0|\n",
      "|B046FCAC0DC1|B046FCAC0DC1:2016...|   IPTV|   40|      EnterIPTV|     NULL|            0.0|\n",
      "|B046FCAC0DC1|B046FCAC0DC1:2016...|    VOD|   18|   ChangeModule|     NULL|            0.0|\n",
      "|B046FCAC0DC1|B046FCAC0DC1:2016...|    VOD|   51|       StartVOD|100052388|            0.0|\n",
      "|B046FCAC0DC1|B046FCAC0DC1:2016...|   IPTV|   42|    StopChannel|      158|          6.657|\n",
      "|B046FCAC0DC1|B046FCAC0DC1:2016...|   IPTV|   18|   ChangeModule|     NULL|            0.0|\n",
      "|B046FCAC0DC1|B046FCAC0DC1:2016...|    VOD|   52|        StopVOD|100052388|         1158.6|\n",
      "|B046FCAC0DC1|B046FCAC0DC1:2016...|    VOD|   54|        PlayVOD|100052388|            0.0|\n",
      "|B046FCAC0DC1|B046FCAC0DC1:2016...|    VOD|   55|        NextVOD|100052388|            0.0|\n",
      "|B046FCAC0DC1|B046FCAC0DC1:2016...|   IPTV|   40|      EnterIPTV|     NULL|            0.0|\n",
      "|B046FCAC0DC1|B046FCAC0DC1:2016...|    VOD|   50|       EnterVOD|     NULL|            0.0|\n",
      "|B046FCAC0DC1|B046FCAC0DC1:2016...|    VOD|   50|       EnterVOD|     NULL|            0.0|\n",
      "|B046FCAC0DC1|B046FCAC0DC1:2016...|    VOD|   18|   ChangeModule|     NULL|            0.0|\n",
      "|B046FCAC0DC1|B046FCAC0DC1:2016...|   IPTV|   42|    StopChannel|       52|          9.468|\n",
      "|B046FCAC0DC1|B046FCAC0DC1:2016...|   IPTV|   41|   StartChannel|      181|            0.0|\n",
      "|B046FCAC0DC1|B046FCAC0DC1:2016...|   IPTV|   45|ShowChannelList|       52|            0.0|\n",
      "|B046FCAC0DC1|B046FCAC0DC1:2016...|   IPTV|   45|ShowChannelList|       52|            0.0|\n",
      "+------------+--------------------+-------+-----+---------------+---------+---------------+\n",
      "only showing top 20 rows\n",
      "\n"
     ]
    }
   ],
   "source": [
    "logs_data.show()"
   ]
  },
  {
   "cell_type": "code",
   "execution_count": 167,
   "metadata": {},
   "outputs": [
    {
     "name": "stdout",
     "output_type": "stream",
     "text": [
      "+------------+--------------------+-------+-----+-----------+---------+---------------+\n",
      "|         MAC|     SessionMainMenu|AppName|LogId|      Event|   ItemId|RealTimePlaying|\n",
      "+------------+--------------------+-------+-----+-----------+---------+---------------+\n",
      "|B046FCAC0DC1|B046FCAC0DC1:2016...|    VOD|   52|    StopVOD|100052388|          570.3|\n",
      "|B046FCAC0DC1|B046FCAC0DC1:2016...|   IPTV|   42|StopChannel|      158|          6.657|\n",
      "|B046FCAC0DC1|B046FCAC0DC1:2016...|    VOD|   52|    StopVOD|100052388|         1158.6|\n",
      "|B046FCAC0DC1|B046FCAC0DC1:2016...|   IPTV|   42|StopChannel|       52|          9.468|\n",
      "|B046FCAC0DC1|B046FCAC0DC1:2016...|   IPTV|   42|StopChannel|       52|          7.536|\n",
      "|B046FCAC0DC1|B046FCAC0DC1:2016...|    VOD|   52|    StopVOD|100053413|         3480.3|\n",
      "|B046FCAC0DC1|B046FCAC0DC1:2016...|   IPTV|   42|StopChannel|      158|         10.415|\n",
      "|B046FCAC0DC1|B046FCAC0DC1:2016...|    VOD|   52|    StopVOD|100000148|         3903.0|\n",
      "|B046FCAC0DC1|B046FCAC0DC1:2016...|   IPTV|   42|StopChannel|      125|          8.986|\n",
      "|B046FCAC0DC1|B046FCAC0DC1:2016...|   IPTV|   42|StopChannel|       52|        393.443|\n",
      "|B046FCAC0DC1|B046FCAC0DC1:2016...|    VOD|   52|    StopVOD|100053413|         1472.1|\n",
      "|B046FCAC0DC1|B046FCAC0DC1:2016...|   IPTV|   42|StopChannel|        3|          3.649|\n",
      "|B046FCAC0DC1|B046FCAC0DC1:2016...|   IPTV|   42|StopChannel|        3|      14696.119|\n",
      "|B046FCAC0DC1|B046FCAC0DC1:2016...|    VOD|   52|    StopVOD|100053413|         3765.0|\n",
      "|B046FCAC0DC1|B046FCAC0DC1:2016...|   IPTV|   42|StopChannel|      158|      14697.527|\n",
      "|B046FCAC0DC1|B046FCAC0DC1:2016...|   IPTV|   42|StopChannel|      125|           4.43|\n",
      "|B046FCAC0DC1|B046FCAC0DC1:2016...|   IPTV|   42|StopChannel|       51|          7.569|\n",
      "|B046FCAC0DC1|B046FCAC0DC1:2016...|   IPTV|   42|StopChannel|       52|         14.586|\n",
      "|B046FCAC0DC1|B046FCAC0DC1:2016...|   IPTV|   42|StopChannel|       52|         14.013|\n",
      "|B046FCAC0DC1|B046FCAC0DC1:2016...|   IPTV|   42|StopChannel|        3|       4401.938|\n",
      "+------------+--------------------+-------+-----+-----------+---------+---------------+\n",
      "only showing top 20 rows\n",
      "\n"
     ]
    }
   ],
   "source": [
    "# Loại bỏ các logs_data có RealTimePlaying = 0\n",
    "logs_data = logs_data[logs_data['RealTimePlaying'] != 0]\n",
    "\n",
    "logs_data.show()"
   ]
  },
  {
   "cell_type": "code",
   "execution_count": 168,
   "metadata": {},
   "outputs": [
    {
     "name": "stdout",
     "output_type": "stream",
     "text": [
      "root\n",
      " |-- MAC: string (nullable = true)\n",
      " |-- SessionMainMenu: string (nullable = true)\n",
      " |-- AppName: string (nullable = true)\n",
      " |-- LogId: string (nullable = true)\n",
      " |-- Event: string (nullable = true)\n",
      " |-- ItemId: string (nullable = true)\n",
      " |-- RealTimePlaying: float (nullable = true)\n",
      "\n"
     ]
    }
   ],
   "source": [
    "logs_data.printSchema()"
   ]
  },
  {
   "cell_type": "code",
   "execution_count": 169,
   "metadata": {},
   "outputs": [
    {
     "name": "stdout",
     "output_type": "stream",
     "text": [
      "+------------+-------+---------------+\n",
      "|         MAC|AppName|RealTimePlaying|\n",
      "+------------+-------+---------------+\n",
      "|B046FCB4F6FC|   IPTV|            NaN|\n",
      "|B046FCAD1A72|   IPTV|            NaN|\n",
      "|B046FCB5165A|   IPTV|            NaN|\n",
      "|B046FCB3C270|   IPTV|            NaN|\n",
      "|B046FCB3C0F6|   IPTV|            NaN|\n",
      "|B046FCB58A47|   IPTV|            NaN|\n",
      "|B046FCB710AD|   IPTV|            NaN|\n",
      "|B046FCAB6D1D|   IPTV|            NaN|\n",
      "|B046FCB5034E|   IPTV|            NaN|\n",
      "|B046FCB520D4|   IPTV|            NaN|\n",
      "|B046FCACA75C|   IPTV|            NaN|\n",
      "|B046FCB25966|   IPTV|            NaN|\n",
      "|B046FCAA0FD3|   IPTV|            NaN|\n",
      "|B046FCAA0535|   IPTV|            NaN|\n",
      "|B046FCAB0320|   IPTV|            NaN|\n",
      "|B046FCB7B522|   IPTV|            NaN|\n",
      "|B046FCB7E79F|   IPTV|            NaN|\n",
      "|B046FCB1AF25|   IPTV|            NaN|\n",
      "|B046FCA981B6|   IPTV|            NaN|\n",
      "|B046FCACC3ED|   IPTV|            NaN|\n",
      "+------------+-------+---------------+\n",
      "only showing top 20 rows\n",
      "\n"
     ]
    }
   ],
   "source": [
    "logs_data_mac_groupby = logs_data.groupBy('MAC', 'AppName').agg(F.sum('RealTimePlaying').alias('RealTimePlaying')).orderBy('RealTimePlaying', ascending=False)\n",
    "\n",
    "logs_data_mac_groupby.show()"
   ]
  },
  {
   "cell_type": "code",
   "execution_count": 170,
   "metadata": {},
   "outputs": [
    {
     "name": "stdout",
     "output_type": "stream",
     "text": [
      "+------------+-------+--------------------+\n",
      "|         MAC|AppName|     RealTimePlaying|\n",
      "+------------+-------+--------------------+\n",
      "|B046FCAE382D|   IPTV| 1.755163481421441E7|\n",
      "|B046FCAD1EEA|   IPTV|1.5634642986617684E7|\n",
      "|B046FCA7BCB5|   IPTV|  1897640.3560125828|\n",
      "|B046FCB28BCA|   IPTV|  1345581.9630002975|\n",
      "|B046FCAEDB5E|   IPTV|  1334936.4611959457|\n",
      "|B046FCAEDDC2|   IPTV|  1187601.9100208282|\n",
      "|B046FCAA163A|   IPTV|   936302.3393008709|\n",
      "|B046FCB2CB2B|   IPTV|   935855.6047201157|\n",
      "|B046FCAA0F1B|   IPTV|   910310.9798007011|\n",
      "|B046FCB70DFA|   IPTV|   882628.9629154205|\n",
      "|B046FCB32AF5|   IPTV|   876269.5766096115|\n",
      "|B046FCA6F096|   IPTV|   868668.9254112244|\n",
      "|B046FCB5E825|   IPTV|   805443.6820454001|\n",
      "|B046FCA988C7|   IPTV|   702807.7915058136|\n",
      "|B046FCAD8739|   IPTV|       654868.953125|\n",
      "|B046FCB710C6|   IPTV|   571637.4484194517|\n",
      "|B046FCAD1490|   IPTV|         562320.0625|\n",
      "|B046FCB84727|   IPTV|   555399.1455761194|\n",
      "|B046FCA86474|   IPTV|   551702.6164684296|\n",
      "|B046FCAD399C|   IPTV|   531748.9184869528|\n",
      "+------------+-------+--------------------+\n",
      "only showing top 20 rows\n",
      "\n"
     ]
    }
   ],
   "source": [
    "logs_data_mac_groupby = logs_data_mac_groupby.na.drop(subset=['RealTimePlaying'])\n",
    "\n",
    "logs_data_mac_groupby.show()"
   ]
  },
  {
   "cell_type": "code",
   "execution_count": 171,
   "metadata": {},
   "outputs": [
    {
     "name": "stdout",
     "output_type": "stream",
     "text": [
      "+----------------+---------+\n",
      "|             MAC|# of days|\n",
      "+----------------+---------+\n",
      "|FBOXB046FCB79E0B|       20|\n",
      "|FBOXB046FCB3528B|      181|\n",
      "|FBOXB046FCAAFB73|      426|\n",
      "|FBOXB046FCAAFB72|      426|\n",
      "|FBOXB046FCAA2085|      429|\n",
      "|FBOXB046FCAA0669|      380|\n",
      "|FBOXB046FCB343BF|      376|\n",
      "|FBOXB046FCAC0CFB|      376|\n",
      "|FBOXB046FCABED45|      378|\n",
      "|FBOXB046FCAD80FC|      305|\n",
      "|FBOXB046FCB1E3FE|      255|\n",
      "|FBOXB046FCB27666|      210|\n",
      "|FBOXB046FCB42341|      142|\n",
      "|FBOXB046FCB6D6B2|       46|\n",
      "|FBOXB046FCB6D4BC|       46|\n",
      "|FBOXB046FCB6D4B6|       46|\n",
      "|FBOXB046FCA6A3F4|      583|\n",
      "|FBOXB046FCA86BD5|      493|\n",
      "|FBOXB046FCABE3BC|      425|\n",
      "|FBOXB046FCAC125F|      374|\n",
      "+----------------+---------+\n",
      "only showing top 20 rows\n",
      "\n"
     ]
    }
   ],
   "source": [
    "# Đọc dữ liệu file user_info.txt\n",
    "user_data = spark.read.csv('DataSampleTest\\\\user_info.txt', sep='\\t', header=True)\n",
    "\n",
    "user_data.show()"
   ]
  },
  {
   "cell_type": "code",
   "execution_count": 172,
   "metadata": {},
   "outputs": [
    {
     "name": "stdout",
     "output_type": "stream",
     "text": [
      "root\n",
      " |-- MAC: string (nullable = true)\n",
      " |-- # of days: string (nullable = true)\n",
      "\n"
     ]
    }
   ],
   "source": [
    "user_data.printSchema()"
   ]
  },
  {
   "cell_type": "code",
   "execution_count": 173,
   "metadata": {},
   "outputs": [
    {
     "name": "stdout",
     "output_type": "stream",
     "text": [
      "+----------------+---------+\n",
      "|             MAC|# of days|\n",
      "+----------------+---------+\n",
      "|FBOXB046FCB79E0B|       20|\n",
      "|FBOXB046FCB3528B|      181|\n",
      "|FBOXB046FCAAFB73|      426|\n",
      "|FBOXB046FCAAFB72|      426|\n",
      "|FBOXB046FCAA2085|      429|\n",
      "|FBOXB046FCAA0669|      380|\n",
      "|FBOXB046FCB343BF|      376|\n",
      "|FBOXB046FCAC0CFB|      376|\n",
      "|FBOXB046FCABED45|      378|\n",
      "|FBOXB046FCAD80FC|      305|\n",
      "|FBOXB046FCB1E3FE|      255|\n",
      "|FBOXB046FCB27666|      210|\n",
      "|FBOXB046FCB42341|      142|\n",
      "|FBOXB046FCB6D6B2|       46|\n",
      "|FBOXB046FCB6D4BC|       46|\n",
      "|FBOXB046FCB6D4B6|       46|\n",
      "|FBOXB046FCA6A3F4|      583|\n",
      "|FBOXB046FCA86BD5|      493|\n",
      "|FBOXB046FCABE3BC|      425|\n",
      "|FBOXB046FCAC125F|      374|\n",
      "+----------------+---------+\n",
      "only showing top 20 rows\n",
      "\n"
     ]
    }
   ],
   "source": [
    "# Chuyển dữ liệu cột # of days sang dạng integer\n",
    "user_data = user_data.withColumn('# of days', user_data['# of days'].cast('int'))\n",
    "\n",
    "user_data.show()"
   ]
  },
  {
   "cell_type": "code",
   "execution_count": 174,
   "metadata": {},
   "outputs": [
    {
     "name": "stdout",
     "output_type": "stream",
     "text": [
      "root\n",
      " |-- MAC: string (nullable = true)\n",
      " |-- # of days: integer (nullable = true)\n",
      "\n"
     ]
    }
   ],
   "source": [
    "user_data.printSchema()"
   ]
  },
  {
   "cell_type": "code",
   "execution_count": 175,
   "metadata": {},
   "outputs": [
    {
     "name": "stdout",
     "output_type": "stream",
     "text": [
      "+------------+---------+\n",
      "|         MAC|# of days|\n",
      "+------------+---------+\n",
      "|B046FCB79E0B|       20|\n",
      "|B046FCB3528B|      181|\n",
      "|B046FCAAFB73|      426|\n",
      "|B046FCAAFB72|      426|\n",
      "|B046FCAA2085|      429|\n",
      "|B046FCAA0669|      380|\n",
      "|B046FCB343BF|      376|\n",
      "|B046FCAC0CFB|      376|\n",
      "|B046FCABED45|      378|\n",
      "|B046FCAD80FC|      305|\n",
      "|B046FCB1E3FE|      255|\n",
      "|B046FCB27666|      210|\n",
      "|B046FCB42341|      142|\n",
      "|B046FCB6D6B2|       46|\n",
      "|B046FCB6D4BC|       46|\n",
      "|B046FCB6D4B6|       46|\n",
      "|B046FCA6A3F4|      583|\n",
      "|B046FCA86BD5|      493|\n",
      "|B046FCABE3BC|      425|\n",
      "|B046FCAC125F|      374|\n",
      "+------------+---------+\n",
      "only showing top 20 rows\n",
      "\n"
     ]
    }
   ],
   "source": [
    "user_data = user_data.withColumn('MAC', regexp_replace('MAC', 'FBOX', ''))\n",
    "\n",
    "user_data.show()"
   ]
  },
  {
   "cell_type": "code",
   "execution_count": 177,
   "metadata": {},
   "outputs": [
    {
     "name": "stdout",
     "output_type": "stream",
     "text": [
      "+------------+----------+\n",
      "|         MAC|Total Days|\n",
      "+------------+----------+\n",
      "|001D20ED4ACA|      1983|\n",
      "|001c55007d93|      1166|\n",
      "|001C55007967|      1056|\n",
      "|001C55007B29|      1056|\n",
      "|001C550081A7|      1054|\n",
      "|001C55007A8F|      1049|\n",
      "|001C550080DA|      1046|\n",
      "|001C550081E5|      1042|\n",
      "|001C55007D35|      1037|\n",
      "|001C550083F1|      1029|\n",
      "|001C55007CF7|      1018|\n",
      "|001C55007BFF|      1014|\n",
      "|001C55007BD7|      1007|\n",
      "|001C550083FE|      1006|\n",
      "|001C550083BE|      1002|\n",
      "|001C5500855C|       989|\n",
      "|001C5500802D|       988|\n",
      "|001C55007C49|       986|\n",
      "|001C550086F7|       985|\n",
      "|B046FCA7C5B3|       976|\n",
      "+------------+----------+\n",
      "only showing top 20 rows\n",
      "\n"
     ]
    }
   ],
   "source": [
    "from pyspark.sql import functions as F\n",
    "\n",
    "# Assuming 'user_data' is your DataFrame and 'MAC' is the column you want to sum values for\n",
    "user_data_groupby = user_data.groupBy('MAC').agg(F.sum('# of days').alias('Total Days')).orderBy('Total Days', ascending=False)\n",
    "\n",
    "# Show the value sums\n",
    "user_data_groupby.show()"
   ]
  },
  {
   "cell_type": "code",
   "execution_count": 178,
   "metadata": {},
   "outputs": [
    {
     "name": "stdout",
     "output_type": "stream",
     "text": [
      "+------------+----------+\n",
      "|         MAC|Total Days|\n",
      "+------------+----------+\n",
      "|001D20ED4ACA|      1983|\n",
      "|001c55007d93|      1166|\n",
      "|001C55007967|      1056|\n",
      "|001C55007B29|      1056|\n",
      "|001C550081A7|      1054|\n",
      "|001C55007A8F|      1049|\n",
      "|001C550080DA|      1046|\n",
      "|001C550081E5|      1042|\n",
      "|001C55007D35|      1037|\n",
      "|001C550083F1|      1029|\n",
      "|001C55007CF7|      1018|\n",
      "|001C55007BFF|      1014|\n",
      "|001C55007BD7|      1007|\n",
      "|001C550083FE|      1006|\n",
      "|001C550083BE|      1002|\n",
      "|001C5500855C|       989|\n",
      "|001C5500802D|       988|\n",
      "|001C55007C49|       986|\n",
      "|001C550086F7|       985|\n",
      "|B046FCA7C5B3|       976|\n",
      "+------------+----------+\n",
      "only showing top 20 rows\n",
      "\n"
     ]
    }
   ],
   "source": [
    "user_data_groupby.show()"
   ]
  },
  {
   "cell_type": "code",
   "execution_count": 179,
   "metadata": {},
   "outputs": [
    {
     "name": "stdout",
     "output_type": "stream",
     "text": [
      "+------------+--------------------+-------+-----+-----------+---------+---------------+\n",
      "|         MAC|     SessionMainMenu|AppName|LogId|      Event|   ItemId|RealTimePlaying|\n",
      "+------------+--------------------+-------+-----+-----------+---------+---------------+\n",
      "|B046FCAC0DC1|B046FCAC0DC1:2016...|    VOD|   52|    StopVOD|100052388|          570.3|\n",
      "|B046FCAC0DC1|B046FCAC0DC1:2016...|   IPTV|   42|StopChannel|      158|          6.657|\n",
      "|B046FCAC0DC1|B046FCAC0DC1:2016...|    VOD|   52|    StopVOD|100052388|         1158.6|\n",
      "|B046FCAC0DC1|B046FCAC0DC1:2016...|   IPTV|   42|StopChannel|       52|          9.468|\n",
      "|B046FCAC0DC1|B046FCAC0DC1:2016...|   IPTV|   42|StopChannel|       52|          7.536|\n",
      "|B046FCAC0DC1|B046FCAC0DC1:2016...|    VOD|   52|    StopVOD|100053413|         3480.3|\n",
      "|B046FCAC0DC1|B046FCAC0DC1:2016...|   IPTV|   42|StopChannel|      158|         10.415|\n",
      "|B046FCAC0DC1|B046FCAC0DC1:2016...|    VOD|   52|    StopVOD|100000148|         3903.0|\n",
      "|B046FCAC0DC1|B046FCAC0DC1:2016...|   IPTV|   42|StopChannel|      125|          8.986|\n",
      "|B046FCAC0DC1|B046FCAC0DC1:2016...|   IPTV|   42|StopChannel|       52|        393.443|\n",
      "|B046FCAC0DC1|B046FCAC0DC1:2016...|    VOD|   52|    StopVOD|100053413|         1472.1|\n",
      "|B046FCAC0DC1|B046FCAC0DC1:2016...|   IPTV|   42|StopChannel|        3|          3.649|\n",
      "|B046FCAC0DC1|B046FCAC0DC1:2016...|   IPTV|   42|StopChannel|        3|      14696.119|\n",
      "|B046FCAC0DC1|B046FCAC0DC1:2016...|    VOD|   52|    StopVOD|100053413|         3765.0|\n",
      "|B046FCAC0DC1|B046FCAC0DC1:2016...|   IPTV|   42|StopChannel|      158|      14697.527|\n",
      "|B046FCAC0DC1|B046FCAC0DC1:2016...|   IPTV|   42|StopChannel|      125|           4.43|\n",
      "|B046FCAC0DC1|B046FCAC0DC1:2016...|   IPTV|   42|StopChannel|       51|          7.569|\n",
      "|B046FCAC0DC1|B046FCAC0DC1:2016...|   IPTV|   42|StopChannel|       52|         14.586|\n",
      "|B046FCAC0DC1|B046FCAC0DC1:2016...|   IPTV|   42|StopChannel|       52|         14.013|\n",
      "|B046FCAC0DC1|B046FCAC0DC1:2016...|   IPTV|   42|StopChannel|        3|       4401.938|\n",
      "+------------+--------------------+-------+-----+-----------+---------+---------------+\n",
      "only showing top 20 rows\n",
      "\n"
     ]
    }
   ],
   "source": [
    "logs_data.show()"
   ]
  },
  {
   "cell_type": "code",
   "execution_count": null,
   "metadata": {},
   "outputs": [],
   "source": []
  },
  {
   "cell_type": "code",
   "execution_count": null,
   "metadata": {},
   "outputs": [],
   "source": []
  },
  {
   "cell_type": "code",
   "execution_count": null,
   "metadata": {},
   "outputs": [],
   "source": []
  },
  {
   "cell_type": "code",
   "execution_count": null,
   "metadata": {},
   "outputs": [],
   "source": []
  },
  {
   "cell_type": "code",
   "execution_count": null,
   "metadata": {},
   "outputs": [],
   "source": []
  },
  {
   "cell_type": "code",
   "execution_count": null,
   "metadata": {},
   "outputs": [],
   "source": []
  }
 ],
 "metadata": {
  "kernelspec": {
   "display_name": "Python 3",
   "language": "python",
   "name": "python3"
  },
  "language_info": {
   "codemirror_mode": {
    "name": "ipython",
    "version": 3
   },
   "file_extension": ".py",
   "mimetype": "text/x-python",
   "name": "python",
   "nbconvert_exporter": "python",
   "pygments_lexer": "ipython3",
   "version": "3.11.5"
  }
 },
 "nbformat": 4,
 "nbformat_minor": 2
}
